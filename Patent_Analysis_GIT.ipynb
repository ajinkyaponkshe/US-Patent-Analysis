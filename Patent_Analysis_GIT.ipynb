{
  "nbformat": 4,
  "nbformat_minor": 0,
  "metadata": {
    "colab": {
      "name": "Final 2 Patent Analysis_Test.ipynb",
      "provenance": [],
      "collapsed_sections": [],
      "toc_visible": true,
      "machine_shape": "hm"
    },
    "kernelspec": {
      "name": "python3",
      "display_name": "Python 3"
    }
  },
  "cells": [
    {
      "cell_type": "markdown",
      "metadata": {
        "id": "5YwYSIFQB7k0",
        "colab_type": "text"
      },
      "source": [
        "**RESULT**\n",
        "\n",
        "*   Models used with hyperparameters :linear regression, linear regression with SGD, Ridge,Lasso, ElasticNet, Polynomial regression, Polynomial Regression with regularization, Decision Tree regression\n",
        "*   Best Model parameters : Elastic Net Regression Model {Alpha: 0.001, L1:0.2}\n",
        "*   Elastic Net Train Performance:  0.2271\n",
        "*   Elastic net Test Performace: 0.1967\n",
        "*   Train RMSE:28.2794\n",
        "*   Test RMSE: 30.2617\n",
        "\n",
        "\n",
        "\n",
        "\n",
        "\n",
        "\n"
      ]
    },
    {
      "cell_type": "markdown",
      "metadata": {
        "id": "-4XwcTPAuiTE",
        "colab_type": "text"
      },
      "source": [
        "# 1. Import Libraries and Dataset"
      ]
    },
    {
      "cell_type": "code",
      "metadata": {
        "id": "Osrfzp4a57H3",
        "colab_type": "code",
        "colab": {}
      },
      "source": [
        "pip install feature_engine"
      ],
      "execution_count": 0,
      "outputs": []
    },
    {
      "cell_type": "code",
      "metadata": {
        "id": "jQixNVzPVnzk",
        "colab_type": "code",
        "colab": {}
      },
      "source": [
        "\n",
        "import numpy as np\n",
        "\n",
        "import pandas as pd\n",
        "\n",
        "\n",
        "import warnings\n",
        "warnings.filterwarnings(\"ignore\")\n",
        "\n",
        "import seaborn as snr\n",
        "import matplotlib.pyplot as plt\n"
      ],
      "execution_count": 0,
      "outputs": []
    },
    {
      "cell_type": "code",
      "metadata": {
        "id": "mwW-5nPrV1O0",
        "colab_type": "code",
        "colab": {}
      },
      "source": [
        "# load data\n",
        "\n",
        "data=pd.read_excel('Patent Data Variables.xlsx')"
      ],
      "execution_count": 0,
      "outputs": []
    },
    {
      "cell_type": "code",
      "metadata": {
        "id": "Ee4Wso9mYqka",
        "colab_type": "code",
        "outputId": "2c5a2be6-a7f4-415e-ceac-f3025774102d",
        "colab": {
          "resources": {
            "http://localhost:8080/nbextensions/google.colab/files.js": {
              "data": "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",
              "ok": true,
              "headers": [
                [
                  "content-type",
                  "application/javascript"
                ]
              ],
              "status": 200,
              "status_text": ""
            }
          },
          "base_uri": "https://localhost:8080/",
          "height": 41
        }
      },
      "source": [
        "from google.colab import files\n",
        "uploaded = files.upload()"
      ],
      "execution_count": 0,
      "outputs": [
        {
          "output_type": "display_data",
          "data": {
            "text/html": [
              "\n",
              "     <input type=\"file\" id=\"files-02c8dfe0-5d3a-47bc-92d0-f723d3134aea\" name=\"files[]\" multiple disabled />\n",
              "     <output id=\"result-02c8dfe0-5d3a-47bc-92d0-f723d3134aea\">\n",
              "      Upload widget is only available when the cell has been executed in the\n",
              "      current browser session. Please rerun this cell to enable.\n",
              "      </output>\n",
              "      <script src=\"/nbextensions/google.colab/files.js\"></script> "
            ],
            "text/plain": [
              "<IPython.core.display.HTML object>"
            ]
          },
          "metadata": {
            "tags": []
          }
        }
      ]
    },
    {
      "cell_type": "code",
      "metadata": {
        "id": "CEjH6oVpZP7r",
        "colab_type": "code",
        "outputId": "55e5f8c7-751d-44e6-bb08-535152f52414",
        "colab": {
          "base_uri": "https://localhost:8080/",
          "height": 220
        }
      },
      "source": [
        "      data.head()"
      ],
      "execution_count": 0,
      "outputs": [
        {
          "output_type": "execute_result",
          "data": {
            "text/html": [
              "<div>\n",
              "<style scoped>\n",
              "    .dataframe tbody tr th:only-of-type {\n",
              "        vertical-align: middle;\n",
              "    }\n",
              "\n",
              "    .dataframe tbody tr th {\n",
              "        vertical-align: top;\n",
              "    }\n",
              "\n",
              "    .dataframe thead th {\n",
              "        text-align: right;\n",
              "    }\n",
              "</style>\n",
              "<table border=\"1\" class=\"dataframe\">\n",
              "  <thead>\n",
              "    <tr style=\"text-align: right;\">\n",
              "      <th></th>\n",
              "      <th>pat</th>\n",
              "      <th>fwd</th>\n",
              "      <th>lag_d</th>\n",
              "      <th>lag_y</th>\n",
              "      <th>noc</th>\n",
              "      <th>gy</th>\n",
              "      <th>ay</th>\n",
              "      <th>noi</th>\n",
              "      <th>UMC</th>\n",
              "      <th>firm</th>\n",
              "      <th>MSA</th>\n",
              "      <th>tbm</th>\n",
              "      <th>tbru</th>\n",
              "      <th>PAG</th>\n",
              "      <th>npr</th>\n",
              "      <th>fpr</th>\n",
              "      <th>FT</th>\n",
              "      <th>Cent</th>\n",
              "      <th>EXP_Y</th>\n",
              "      <th>DT</th>\n",
              "      <th>IT</th>\n",
              "      <th>RT</th>\n",
              "      <th>3rd_PT</th>\n",
              "      <th>Rnd_Int</th>\n",
              "      <th>FS</th>\n",
              "    </tr>\n",
              "  </thead>\n",
              "  <tbody>\n",
              "    <tr>\n",
              "      <th>0</th>\n",
              "      <td>6052760</td>\n",
              "      <td>35</td>\n",
              "      <td>895</td>\n",
              "      <td>3</td>\n",
              "      <td>6</td>\n",
              "      <td>2000</td>\n",
              "      <td>1997</td>\n",
              "      <td>3</td>\n",
              "      <td>711</td>\n",
              "      <td>596125</td>\n",
              "      <td>156</td>\n",
              "      <td>54</td>\n",
              "      <td>0.65505</td>\n",
              "      <td>5.019564e+06</td>\n",
              "      <td>6</td>\n",
              "      <td>3</td>\n",
              "      <td>2</td>\n",
              "      <td>0.000022</td>\n",
              "      <td>3.33333</td>\n",
              "      <td>2.66666</td>\n",
              "      <td>9.74898</td>\n",
              "      <td>0.00000</td>\n",
              "      <td>0.0</td>\n",
              "      <td>0.05382</td>\n",
              "      <td>32.0</td>\n",
              "    </tr>\n",
              "    <tr>\n",
              "      <th>1</th>\n",
              "      <td>6052764</td>\n",
              "      <td>6</td>\n",
              "      <td>851</td>\n",
              "      <td>3</td>\n",
              "      <td>22</td>\n",
              "      <td>2000</td>\n",
              "      <td>1997</td>\n",
              "      <td>1</td>\n",
              "      <td>711</td>\n",
              "      <td>755619</td>\n",
              "      <td>261</td>\n",
              "      <td>5</td>\n",
              "      <td>0.32000</td>\n",
              "      <td>5.578147e+06</td>\n",
              "      <td>0</td>\n",
              "      <td>0</td>\n",
              "      <td>2</td>\n",
              "      <td>0.000000</td>\n",
              "      <td>9.00000</td>\n",
              "      <td>0.00000</td>\n",
              "      <td>0.00000</td>\n",
              "      <td>0.00000</td>\n",
              "      <td>0.0</td>\n",
              "      <td>0.02247</td>\n",
              "      <td>18.0</td>\n",
              "    </tr>\n",
              "    <tr>\n",
              "      <th>2</th>\n",
              "      <td>6052773</td>\n",
              "      <td>66</td>\n",
              "      <td>1778</td>\n",
              "      <td>5</td>\n",
              "      <td>22</td>\n",
              "      <td>2000</td>\n",
              "      <td>1995</td>\n",
              "      <td>3</td>\n",
              "      <td>712</td>\n",
              "      <td>357270</td>\n",
              "      <td>32</td>\n",
              "      <td>28</td>\n",
              "      <td>0.63778</td>\n",
              "      <td>5.072923e+06</td>\n",
              "      <td>25</td>\n",
              "      <td>0</td>\n",
              "      <td>2</td>\n",
              "      <td>0.000000</td>\n",
              "      <td>3.66666</td>\n",
              "      <td>0.00000</td>\n",
              "      <td>0.00000</td>\n",
              "      <td>0.00000</td>\n",
              "      <td>0.0</td>\n",
              "      <td>0.00000</td>\n",
              "      <td>NaN</td>\n",
              "    </tr>\n",
              "    <tr>\n",
              "      <th>3</th>\n",
              "      <td>6052775</td>\n",
              "      <td>14</td>\n",
              "      <td>1028</td>\n",
              "      <td>3</td>\n",
              "      <td>13</td>\n",
              "      <td>2000</td>\n",
              "      <td>1997</td>\n",
              "      <td>2</td>\n",
              "      <td>712</td>\n",
              "      <td>551495</td>\n",
              "      <td>261</td>\n",
              "      <td>4</td>\n",
              "      <td>0.37500</td>\n",
              "      <td>5.787045e+06</td>\n",
              "      <td>1</td>\n",
              "      <td>0</td>\n",
              "      <td>2</td>\n",
              "      <td>0.000000</td>\n",
              "      <td>5.00000</td>\n",
              "      <td>3.50000</td>\n",
              "      <td>0.73076</td>\n",
              "      <td>0.00000</td>\n",
              "      <td>0.0</td>\n",
              "      <td>0.09262</td>\n",
              "      <td>17.0</td>\n",
              "    </tr>\n",
              "    <tr>\n",
              "      <th>4</th>\n",
              "      <td>6052776</td>\n",
              "      <td>7</td>\n",
              "      <td>915</td>\n",
              "      <td>3</td>\n",
              "      <td>9</td>\n",
              "      <td>2000</td>\n",
              "      <td>1997</td>\n",
              "      <td>3</td>\n",
              "      <td>712</td>\n",
              "      <td>252865</td>\n",
              "      <td>553</td>\n",
              "      <td>7</td>\n",
              "      <td>0.24491</td>\n",
              "      <td>5.696489e+06</td>\n",
              "      <td>5</td>\n",
              "      <td>3</td>\n",
              "      <td>3</td>\n",
              "      <td>0.000000</td>\n",
              "      <td>5.33333</td>\n",
              "      <td>1.33333</td>\n",
              "      <td>2088.45722</td>\n",
              "      <td>0.33333</td>\n",
              "      <td>0.0</td>\n",
              "      <td>0.05907</td>\n",
              "      <td>330.0</td>\n",
              "    </tr>\n",
              "  </tbody>\n",
              "</table>\n",
              "</div>"
            ],
            "text/plain": [
              "       pat  fwd  lag_d  lag_y  noc  ...          IT       RT  3rd_PT  Rnd_Int     FS\n",
              "0  6052760   35    895      3    6  ...     9.74898  0.00000     0.0  0.05382   32.0\n",
              "1  6052764    6    851      3   22  ...     0.00000  0.00000     0.0  0.02247   18.0\n",
              "2  6052773   66   1778      5   22  ...     0.00000  0.00000     0.0  0.00000    NaN\n",
              "3  6052775   14   1028      3   13  ...     0.73076  0.00000     0.0  0.09262   17.0\n",
              "4  6052776    7    915      3    9  ...  2088.45722  0.33333     0.0  0.05907  330.0\n",
              "\n",
              "[5 rows x 25 columns]"
            ]
          },
          "metadata": {
            "tags": []
          },
          "execution_count": 6
        }
      ]
    },
    {
      "cell_type": "markdown",
      "metadata": {
        "id": "UEIi0kjnfogz",
        "colab_type": "text"
      },
      "source": [
        "# 2. Data Exploration and Preprocessing"
      ]
    },
    {
      "cell_type": "code",
      "metadata": {
        "id": "d8mjE5oFfHTp",
        "colab_type": "code",
        "outputId": "5454d77e-57d0-4063-8a04-567edb1b5eb5",
        "colab": {
          "base_uri": "https://localhost:8080/",
          "height": 675
        }
      },
      "source": [
        " print('Data Information', data.info())\n"
      ],
      "execution_count": 0,
      "outputs": [
        {
          "output_type": "stream",
          "text": [
            "<class 'pandas.core.frame.DataFrame'>\n",
            "RangeIndex: 65535 entries, 0 to 65534\n",
            "Data columns (total 29 columns):\n",
            " #   Column       Non-Null Count  Dtype  \n",
            "---  ------       --------------  -----  \n",
            " 0   pat          65535 non-null  int64  \n",
            " 1   fwd          65535 non-null  int64  \n",
            " 2   lag_d        65535 non-null  int64  \n",
            " 3   lag_y        65535 non-null  int64  \n",
            " 4   noc          65535 non-null  int64  \n",
            " 5   gy           65535 non-null  int64  \n",
            " 6   ay           65535 non-null  int64  \n",
            " 7   noi          65535 non-null  int64  \n",
            " 8   UMC          65535 non-null  int64  \n",
            " 9   firm         65535 non-null  int64  \n",
            " 10  MSA          65535 non-null  int64  \n",
            " 11  tbm          65535 non-null  int64  \n",
            " 12  tbru         65535 non-null  float64\n",
            " 13  PAG          65535 non-null  float64\n",
            " 14  npr          65535 non-null  int64  \n",
            " 15  fpr          65535 non-null  int64  \n",
            " 16  FT           65535 non-null  int64  \n",
            " 17  Cent         65535 non-null  float64\n",
            " 18  EXP_Y        65535 non-null  float64\n",
            " 19  DT           65535 non-null  float64\n",
            " 20  IT           65535 non-null  float64\n",
            " 21  RT           65535 non-null  float64\n",
            " 22  3rd_PT       65535 non-null  float64\n",
            " 23  Rnd_Int      65534 non-null  float64\n",
            " 24  FS           38808 non-null  float64\n",
            " 25  Firm_Type    65535 non-null  object \n",
            " 26  3rd_PT_new   65535 non-null  float64\n",
            " 27  RT_new       65535 non-null  float64\n",
            " 28  E_Year_Diff  65535 non-null  float64\n",
            "dtypes: float64(13), int64(15), object(1)\n",
            "memory usage: 14.5+ MB\n",
            "Data Information None\n"
          ],
          "name": "stdout"
        }
      ]
    },
    {
      "cell_type": "markdown",
      "metadata": {
        "id": "OK5U3R3UD4jx",
        "colab_type": "text"
      },
      "source": [
        "## Missing Values"
      ]
    },
    {
      "cell_type": "code",
      "metadata": {
        "id": "SgVVx_C9D9C0",
        "colab_type": "code",
        "outputId": "2b8e5016-f9bc-43e3-8764-10a634df2f39",
        "colab": {
          "base_uri": "https://localhost:8080/",
          "height": 550
        }
      },
      "source": [
        "data.isnull().sum()/len(data)"
      ],
      "execution_count": 0,
      "outputs": [
        {
          "output_type": "execute_result",
          "data": {
            "text/plain": [
              "pat            0.000000\n",
              "fwd            0.000000\n",
              "lag_d          0.000000\n",
              "lag_y          0.000000\n",
              "noc            0.000000\n",
              "gy             0.000000\n",
              "ay             0.000000\n",
              "noi            0.000000\n",
              "UMC            0.000000\n",
              "firm           0.000000\n",
              "MSA            0.000000\n",
              "tbm            0.000000\n",
              "tbru           0.000000\n",
              "PAG            0.000000\n",
              "npr            0.000000\n",
              "fpr            0.000000\n",
              "FT             0.000000\n",
              "Cent           0.000000\n",
              "EXP_Y          0.000000\n",
              "DT             0.000000\n",
              "IT             0.000000\n",
              "RT             0.000000\n",
              "3rd_PT         0.000000\n",
              "Rnd_Int        0.000015\n",
              "FS             0.407828\n",
              "Firm_Type      0.000000\n",
              "3rd_PT_new     0.000000\n",
              "RT_new         0.000000\n",
              "E_Year_Diff    0.000000\n",
              "dtype: float64"
            ]
          },
          "metadata": {
            "tags": []
          },
          "execution_count": 50
        }
      ]
    },
    {
      "cell_type": "markdown",
      "metadata": {
        "id": "M0BjXH2_iiB-",
        "colab_type": "text"
      },
      "source": [
        "##Data Categorization\n",
        "\n",
        "\n",
        "\n"
      ]
    },
    {
      "cell_type": "code",
      "metadata": {
        "id": "RAUnQ4AFikv7",
        "colab_type": "code",
        "outputId": "56b3d52e-148a-4fba-f008-bc7e745e47c6",
        "colab": {
          "base_uri": "https://localhost:8080/",
          "height": 88
        }
      },
      "source": [
        "# Data Categraization\n",
        "\n",
        "categorical = [var for var in data.columns if data[var].dtype == 'O']\n",
        "\n",
        "temporal = [var for var in data.columns if 'gy' in var or 'ay' in var or 'lag_y'\n",
        "in var]\n",
        "\n",
        "discrete = [\n",
        "    var for var in data.columns if data[var].dtype != 'O'\n",
        "    and len(data[var].unique()) < 20 and var not in temporal  and var not in categorical\n",
        "]\n",
        "\n",
        "continuous = [\n",
        "    var for var in data.columns if data[var].dtype != 'O'\n",
        "    if var not in discrete and var not in [ 'fwd']\n",
        "    and var not in temporal\n",
        "]\n",
        "\n",
        "print(f'There are {len(continuous)} continuous variables')\n",
        "print(f'There are {len(discrete)} discrete variables')\n",
        "print(f'There are {len(temporal)} temporal variables')\n",
        "print(f'There are {len(categorical)} categorical variables')"
      ],
      "execution_count": 0,
      "outputs": [
        {
          "output_type": "stream",
          "text": [
            "There are 22 continuous variables\n",
            "There are 2 discrete variables\n",
            "There are 3 temporal variables\n",
            "There are 1 categorical variables\n"
          ],
          "name": "stdout"
        }
      ]
    },
    {
      "cell_type": "code",
      "metadata": {
        "id": "9pZiRFWYfvIs",
        "colab_type": "code",
        "outputId": "1d42962b-0550-4885-8565-590b3a794b73",
        "colab": {
          "base_uri": "https://localhost:8080/",
          "height": 311
        }
      },
      "source": [
        "data.describe()"
      ],
      "execution_count": 0,
      "outputs": [
        {
          "output_type": "execute_result",
          "data": {
            "text/html": [
              "<div>\n",
              "<style scoped>\n",
              "    .dataframe tbody tr th:only-of-type {\n",
              "        vertical-align: middle;\n",
              "    }\n",
              "\n",
              "    .dataframe tbody tr th {\n",
              "        vertical-align: top;\n",
              "    }\n",
              "\n",
              "    .dataframe thead th {\n",
              "        text-align: right;\n",
              "    }\n",
              "</style>\n",
              "<table border=\"1\" class=\"dataframe\">\n",
              "  <thead>\n",
              "    <tr style=\"text-align: right;\">\n",
              "      <th></th>\n",
              "      <th>pat</th>\n",
              "      <th>fwd</th>\n",
              "      <th>lag_d</th>\n",
              "      <th>lag_y</th>\n",
              "      <th>noc</th>\n",
              "      <th>gy</th>\n",
              "      <th>ay</th>\n",
              "      <th>noi</th>\n",
              "      <th>UMC</th>\n",
              "      <th>firm</th>\n",
              "      <th>MSA</th>\n",
              "      <th>tbm</th>\n",
              "      <th>tbru</th>\n",
              "      <th>PAG</th>\n",
              "      <th>npr</th>\n",
              "      <th>fpr</th>\n",
              "      <th>FT</th>\n",
              "      <th>Cent</th>\n",
              "      <th>EXP_Y</th>\n",
              "      <th>DT</th>\n",
              "      <th>IT</th>\n",
              "      <th>RT</th>\n",
              "      <th>3rd_PT</th>\n",
              "      <th>Rnd_Int</th>\n",
              "      <th>FS</th>\n",
              "    </tr>\n",
              "  </thead>\n",
              "  <tbody>\n",
              "    <tr>\n",
              "      <th>count</th>\n",
              "      <td>6.553500e+04</td>\n",
              "      <td>65535.000000</td>\n",
              "      <td>65535.000000</td>\n",
              "      <td>65535.000000</td>\n",
              "      <td>65535.000000</td>\n",
              "      <td>65535.000000</td>\n",
              "      <td>65535.000000</td>\n",
              "      <td>65535.000000</td>\n",
              "      <td>65535.000000</td>\n",
              "      <td>6.553500e+04</td>\n",
              "      <td>65535.000000</td>\n",
              "      <td>65535.000000</td>\n",
              "      <td>65535.000000</td>\n",
              "      <td>6.553500e+04</td>\n",
              "      <td>65535.000000</td>\n",
              "      <td>65535.000000</td>\n",
              "      <td>65535.000000</td>\n",
              "      <td>65535.000000</td>\n",
              "      <td>65535.000000</td>\n",
              "      <td>65535.000000</td>\n",
              "      <td>65535.000000</td>\n",
              "      <td>65535.000000</td>\n",
              "      <td>65535.000000</td>\n",
              "      <td>65535.000000</td>\n",
              "      <td>38808.000000</td>\n",
              "    </tr>\n",
              "    <tr>\n",
              "      <th>mean</th>\n",
              "      <td>5.516818e+06</td>\n",
              "      <td>26.730800</td>\n",
              "      <td>923.934127</td>\n",
              "      <td>2.546807</td>\n",
              "      <td>18.856489</td>\n",
              "      <td>1995.320287</td>\n",
              "      <td>1992.773480</td>\n",
              "      <td>2.444038</td>\n",
              "      <td>567.743236</td>\n",
              "      <td>4.364026e+05</td>\n",
              "      <td>275.958251</td>\n",
              "      <td>11.376257</td>\n",
              "      <td>0.497925</td>\n",
              "      <td>4.872959e+06</td>\n",
              "      <td>2.957595</td>\n",
              "      <td>1.084245</td>\n",
              "      <td>2.225330</td>\n",
              "      <td>0.000498</td>\n",
              "      <td>1.638537</td>\n",
              "      <td>0.916463</td>\n",
              "      <td>80.069878</td>\n",
              "      <td>0.255761</td>\n",
              "      <td>0.006082</td>\n",
              "      <td>0.086413</td>\n",
              "      <td>129.095522</td>\n",
              "    </tr>\n",
              "    <tr>\n",
              "      <th>std</th>\n",
              "      <td>4.662926e+05</td>\n",
              "      <td>33.322636</td>\n",
              "      <td>364.032954</td>\n",
              "      <td>1.071413</td>\n",
              "      <td>15.708926</td>\n",
              "      <td>4.481961</td>\n",
              "      <td>4.416591</td>\n",
              "      <td>1.792134</td>\n",
              "      <td>180.319111</td>\n",
              "      <td>3.336912e+06</td>\n",
              "      <td>188.192800</td>\n",
              "      <td>15.674491</td>\n",
              "      <td>0.264624</td>\n",
              "      <td>6.978281e+05</td>\n",
              "      <td>10.918525</td>\n",
              "      <td>3.031729</td>\n",
              "      <td>0.661858</td>\n",
              "      <td>0.006973</td>\n",
              "      <td>2.625059</td>\n",
              "      <td>2.324044</td>\n",
              "      <td>420.356247</td>\n",
              "      <td>1.311577</td>\n",
              "      <td>0.078734</td>\n",
              "      <td>6.469271</td>\n",
              "      <td>123.784974</td>\n",
              "    </tr>\n",
              "    <tr>\n",
              "      <th>min</th>\n",
              "      <td>4.184347e+06</td>\n",
              "      <td>0.000000</td>\n",
              "      <td>0.000000</td>\n",
              "      <td>0.000000</td>\n",
              "      <td>1.000000</td>\n",
              "      <td>1980.000000</td>\n",
              "      <td>1979.000000</td>\n",
              "      <td>1.000000</td>\n",
              "      <td>2.000000</td>\n",
              "      <td>0.000000e+00</td>\n",
              "      <td>1.000000</td>\n",
              "      <td>0.000000</td>\n",
              "      <td>0.000000</td>\n",
              "      <td>0.000000e+00</td>\n",
              "      <td>0.000000</td>\n",
              "      <td>0.000000</td>\n",
              "      <td>1.000000</td>\n",
              "      <td>0.000000</td>\n",
              "      <td>0.000000</td>\n",
              "      <td>0.000000</td>\n",
              "      <td>0.000000</td>\n",
              "      <td>0.000000</td>\n",
              "      <td>0.000000</td>\n",
              "      <td>0.000000</td>\n",
              "      <td>0.000000</td>\n",
              "    </tr>\n",
              "    <tr>\n",
              "      <th>25%</th>\n",
              "      <td>5.237184e+06</td>\n",
              "      <td>8.000000</td>\n",
              "      <td>691.500000</td>\n",
              "      <td>2.000000</td>\n",
              "      <td>9.000000</td>\n",
              "      <td>1993.000000</td>\n",
              "      <td>1991.000000</td>\n",
              "      <td>1.000000</td>\n",
              "      <td>375.000000</td>\n",
              "      <td>2.500600e+05</td>\n",
              "      <td>142.000000</td>\n",
              "      <td>5.000000</td>\n",
              "      <td>0.360120</td>\n",
              "      <td>4.600381e+06</td>\n",
              "      <td>0.000000</td>\n",
              "      <td>0.000000</td>\n",
              "      <td>2.000000</td>\n",
              "      <td>0.000000</td>\n",
              "      <td>0.000000</td>\n",
              "      <td>0.000000</td>\n",
              "      <td>0.000000</td>\n",
              "      <td>0.000000</td>\n",
              "      <td>0.000000</td>\n",
              "      <td>0.000000</td>\n",
              "      <td>19.000000</td>\n",
              "    </tr>\n",
              "    <tr>\n",
              "      <th>50%</th>\n",
              "      <td>5.625570e+06</td>\n",
              "      <td>16.000000</td>\n",
              "      <td>888.000000</td>\n",
              "      <td>2.000000</td>\n",
              "      <td>16.000000</td>\n",
              "      <td>1997.000000</td>\n",
              "      <td>1994.000000</td>\n",
              "      <td>2.000000</td>\n",
              "      <td>704.000000</td>\n",
              "      <td>3.867350e+05</td>\n",
              "      <td>260.000000</td>\n",
              "      <td>8.000000</td>\n",
              "      <td>0.560000</td>\n",
              "      <td>4.977990e+06</td>\n",
              "      <td>1.000000</td>\n",
              "      <td>0.000000</td>\n",
              "      <td>2.000000</td>\n",
              "      <td>0.000000</td>\n",
              "      <td>0.250000</td>\n",
              "      <td>0.000000</td>\n",
              "      <td>0.000000</td>\n",
              "      <td>0.000000</td>\n",
              "      <td>0.000000</td>\n",
              "      <td>0.050170</td>\n",
              "      <td>94.000000</td>\n",
              "    </tr>\n",
              "    <tr>\n",
              "      <th>75%</th>\n",
              "      <td>5.881240e+06</td>\n",
              "      <td>33.000000</td>\n",
              "      <td>1100.000000</td>\n",
              "      <td>3.000000</td>\n",
              "      <td>24.000000</td>\n",
              "      <td>1999.000000</td>\n",
              "      <td>1996.000000</td>\n",
              "      <td>3.000000</td>\n",
              "      <td>711.000000</td>\n",
              "      <td>6.726890e+05</td>\n",
              "      <td>526.000000</td>\n",
              "      <td>13.000000</td>\n",
              "      <td>0.710770</td>\n",
              "      <td>5.287176e+06</td>\n",
              "      <td>2.000000</td>\n",
              "      <td>1.000000</td>\n",
              "      <td>3.000000</td>\n",
              "      <td>0.000000</td>\n",
              "      <td>2.500000</td>\n",
              "      <td>0.666660</td>\n",
              "      <td>0.000000</td>\n",
              "      <td>0.000000</td>\n",
              "      <td>0.000000</td>\n",
              "      <td>0.073030</td>\n",
              "      <td>225.000000</td>\n",
              "    </tr>\n",
              "    <tr>\n",
              "      <th>max</th>\n",
              "      <td>6.836878e+06</td>\n",
              "      <td>841.000000</td>\n",
              "      <td>5285.000000</td>\n",
              "      <td>14.000000</td>\n",
              "      <td>375.000000</td>\n",
              "      <td>2004.000000</td>\n",
              "      <td>1997.000000</td>\n",
              "      <td>32.000000</td>\n",
              "      <td>800.000000</td>\n",
              "      <td>8.520611e+08</td>\n",
              "      <td>610.000000</td>\n",
              "      <td>745.000000</td>\n",
              "      <td>0.944380</td>\n",
              "      <td>6.022089e+06</td>\n",
              "      <td>692.000000</td>\n",
              "      <td>91.000000</td>\n",
              "      <td>7.000000</td>\n",
              "      <td>0.338530</td>\n",
              "      <td>24.000000</td>\n",
              "      <td>46.000000</td>\n",
              "      <td>3161.845890</td>\n",
              "      <td>87.444440</td>\n",
              "      <td>8.250000</td>\n",
              "      <td>1639.000000</td>\n",
              "      <td>854.000000</td>\n",
              "    </tr>\n",
              "  </tbody>\n",
              "</table>\n",
              "</div>"
            ],
            "text/plain": [
              "                pat           fwd  ...       Rnd_Int            FS\n",
              "count  6.553500e+04  65535.000000  ...  65535.000000  38808.000000\n",
              "mean   5.516818e+06     26.730800  ...      0.086413    129.095522\n",
              "std    4.662926e+05     33.322636  ...      6.469271    123.784974\n",
              "min    4.184347e+06      0.000000  ...      0.000000      0.000000\n",
              "25%    5.237184e+06      8.000000  ...      0.000000     19.000000\n",
              "50%    5.625570e+06     16.000000  ...      0.050170     94.000000\n",
              "75%    5.881240e+06     33.000000  ...      0.073030    225.000000\n",
              "max    6.836878e+06    841.000000  ...   1639.000000    854.000000\n",
              "\n",
              "[8 rows x 25 columns]"
            ]
          },
          "metadata": {
            "tags": []
          },
          "execution_count": 9
        }
      ]
    },
    {
      "cell_type": "markdown",
      "metadata": {
        "id": "KqKnUV74U4c-",
        "colab_type": "text"
      },
      "source": [
        "### Analyzing Data Columns"
      ]
    },
    {
      "cell_type": "code",
      "metadata": {
        "id": "7sFwz5kljo_R",
        "colab_type": "code",
        "outputId": "18197985-b9d5-47f9-cdf3-9513db2eb923",
        "colab": {
          "base_uri": "https://localhost:8080/",
          "height": 977
        }
      },
      "source": [
        "# Lets print unique values from continuous\n",
        "\n",
        "for var in continuous:\n",
        "  print(var, data[var].nunique())\n",
        "  print(var, data[var][0:20].unique())"
      ],
      "execution_count": 0,
      "outputs": [
        {
          "output_type": "stream",
          "text": [
            "pat 65535\n",
            "pat [6052760 6052764 6052773 6052775 6052776 6052777 6052778 6052780 6052781\n",
            " 6052782 6052784 6052785 6052786 6052795 6052796 6052801 6052802 6052803\n",
            " 6052819 6052670]\n",
            "lag_d 1927\n",
            "lag_d [ 895  851 1778 1028  915 1191 1020 1152 1036  917  879  840 1267 1023\n",
            " 1805  839  935 1103  963]\n",
            "noc 192\n",
            "noc [ 6 22 13  9 14 35 24 19 25 12 26 17 47 10 64]\n",
            "noi 27\n",
            "noi [3 1 2 5 4]\n",
            "UMC 260\n",
            "UMC [711 712 713 726 714 705]\n",
            "firm 8238\n",
            "firm [596125 755619 357270 551495 252865 280070 767124 767125 373440 278220\n",
            " 211480 361691 641805 499570]\n",
            "MSA 354\n",
            "MSA [156 261  32 553  16  31 240  52 168  13 202]\n",
            "tbm 238\n",
            "tbm [54  5 28  4  7 15 19 64 18 14 16  9  0 30 12  6 26]\n",
            "tbru 5396\n",
            "tbru [0.65505 0.32    0.63778 0.375   0.24491 0.34668 0.70915 0.72075 0.44447\n",
            " 0.53063 0.46095 0.71607 0.      0.449   0.66668 0.72003 0.83337 0.75\n",
            " 0.61112 0.87879]\n",
            "PAG 63459\n",
            "PAG [5019564.22222 5578147.      5072923.      5787045.      5696488.85714\n",
            " 5556357.33333 5414483.31578 5176279.64062 5589587.66666 5598866.92857\n",
            " 5692770.1875  5752330.33333       0.      5091314.85714 5438811.46666\n",
            " 4996111.      5672518.83333 5348964.5     5352904.5     5297216.57692]\n",
            "npr 163\n",
            "npr [  6   0  25   1   5  12  22   7   9  14 176]\n",
            "fpr 68\n",
            "fpr [ 3  0 15 20  2  6]\n",
            "Cent 6565\n",
            "Cent [2.248430e-05 0.000000e+00 4.263000e-07 2.633865e-04 3.009350e-05]\n",
            "EXP_Y 405\n",
            "EXP_Y [3.33333 9.      3.66666 5.      5.33333 1.      0.4     0.      4.33333\n",
            " 3.25    6.      0.5     4.     ]\n",
            "DT 476\n",
            "DT [2.66666 0.      3.5     1.33333 2.      1.2     2.33333 2.75    7.5\n",
            " 1.75   ]\n",
            "IT 7849\n",
            "IT [9.74898000e+00 0.00000000e+00 7.30760000e-01 2.08845722e+03\n",
            " 4.16660000e-01 1.67203460e+02 1.50003000e+00 2.72602800e+01\n",
            " 7.78225710e+02]\n",
            "RT 376\n",
            "RT [0.      0.33333 0.4     0.66666]\n",
            "3rd_PT 68\n",
            "3rd_PT [0.]\n",
            "Rnd_Int 2688\n",
            "Rnd_Int [0.05382 0.02247 0.      0.09262 0.05907 0.05179 0.05252 0.08672 0.07834\n",
            " 0.06078 0.09643 0.10653 0.09094]\n",
            "FS 273\n",
            "FS [ 32.  18.  nan  17. 330. 240.   9.  48. 167. 331.  55.   7.   4.]\n"
          ],
          "name": "stdout"
        }
      ]
    },
    {
      "cell_type": "markdown",
      "metadata": {
        "id": "idKMfn7zUebj",
        "colab_type": "text"
      },
      "source": [
        "## Data Visulization"
      ]
    },
    {
      "cell_type": "code",
      "metadata": {
        "id": "2I-Rz9xtUg54",
        "colab_type": "code",
        "colab": {}
      },
      "source": [
        "def diagnostic_plots(df, variable):\n",
        "    # function takes a dataframe (df) and\n",
        "    # the variable of interest as arguments\n",
        "\n",
        "    # define figure size\n",
        "    fig = plt.figure(figsize=(16, 4))\n",
        "\n",
        "    # histogram\n",
        "    plt.subplot(1, 2, 1)\n",
        "    snr.distplot(df[variable], bins=30)\n",
        "    plt.title('Histogram')\n",
        "\n",
        "    # boxplot\n",
        "    plt.subplot(1, 2, 2)\n",
        "    snr.boxplot(y=df[variable])\n",
        "    plt.title('Boxplot')\n",
        "\n",
        "    plt.show()"
      ],
      "execution_count": 0,
      "outputs": []
    },
    {
      "cell_type": "code",
      "metadata": {
        "id": "JxT_FsMLlyOg",
        "colab_type": "code",
        "outputId": "7740dde8-9b0d-459e-a8fc-a40b9c6828a9",
        "colab": {
          "base_uri": "https://localhost:8080/",
          "height": 3644
        }
      },
      "source": [
        "for var in continuous:\n",
        "  if var != \"Firm_Type\":\n",
        "    diagnostic_plots(data, var)"
      ],
      "execution_count": 0,
      "outputs": [
        {
          "output_type": "display_data",
          "data": {
            "image/png": "[encoded data removed]",
            "text/plain": [
              "<Figure size 1152x288 with 2 Axes>"
            ]
          },
          "metadata": {
            "tags": []
          }
        },
        {
          "output_type": "display_data",
          "data": {
            "image/png": "[encoded data removed]",
            "text/plain": [
              "<Figure size 1152x288 with 2 Axes>"
            ]
          },
          "metadata": {
            "tags": []
          }
        },
        {
          "output_type": "display_data",
          "data": {
            "image/png": "[encoded data removed]",
            "text/plain": [
              "<Figure size 1152x288 with 2 Axes>"
            ]
          },
          "metadata": {
            "tags": []
          }
        },
        {
          "output_type": "display_data",
          "data": {
            "image/png": "[encoded data removed]",
            "text/plain": [
              "<Figure size 1152x288 with 2 Axes>"
            ]
          },
          "metadata": {
            "tags": []
          }
        },
        {
          "output_type": "display_data",
          "data": {
            "image/png": "[encoded data removed]",
            "text/plain": [
              "<Figure size 1152x288 with 2 Axes>"
            ]
          },
          "metadata": {
            "tags": []
          }
        },
        {
          "output_type": "display_data",
          "data": {
            "image/png": "[encoded data removed]",
            "text/plain": [
              "<Figure size 1152x288 with 2 Axes>"
            ]
          },
          "metadata": {
            "tags": []
          }
        },
        {
          "output_type": "display_data",
          "data": {
            "image/png": "[encoded data removed]",
            "text/plain": [
              "<Figure size 1152x288 with 2 Axes>"
            ]
          },
          "metadata": {
            "tags": []
          }
        },
        {
          "output_type": "display_data",
          "data": {
            "image/png": "[encoded data removed]",
            "text/plain": [
              "<Figure size 1152x288 with 2 Axes>"
            ]
          },
          "metadata": {
            "tags": []
          }
        },
        {
          "output_type": "display_data",
          "data": {
            "image/png": "[encoded data removed]",
            "text/plain": [
              "<Figure size 1152x288 with 2 Axes>"
            ]
          },
          "metadata": {
            "tags": []
          }
        },
        {
          "output_type": "display_data",
          "data": {
            "image/png": "[encoded data removed]",
            "text/plain": [
              "<Figure size 1152x288 with 2 Axes>"
            ]
          },
          "metadata": {
            "tags": []
          }
        },
        {
          "output_type": "display_data",
          "data": {
            "image/png": "[encoded data removed]",
            "text/plain": [
              "<Figure size 1152x288 with 2 Axes>"
            ]
          },
          "metadata": {
            "tags": []
          }
        },
        {
          "output_type": "display_data",
          "data": {
            "image/png": "[encoded data removed]",
            "text/plain": [
              "<Figure size 1152x288 with 2 Axes>"
            ]
          },
          "metadata": {
            "tags": []
          }
        },
        {
          "output_type": "display_data",
          "data": {
            "image/png": "[encoded data removed]",
            "text/plain": [
              "<Figure size 1152x288 with 2 Axes>"
            ]
          },
          "metadata": {
            "tags": []
          }
        },
        {
          "output_type": "display_data",
          "data": {
            "image/png": "[encoded data removed]",
            "text/plain": [
              "<Figure size 1152x288 with 2 Axes>"
            ]
          },
          "metadata": {
            "tags": []
          }
        },
        {
          "output_type": "display_data",
          "data": {
            "image/png": "[encoded data removed]",
            "text/plain": [
              "<Figure size 1152x288 with 2 Axes>"
            ]
          },
          "metadata": {
            "tags": []
          }
        },
        {
          "output_type": "display_data",
          "data": {
            "image/png": "[encoded data removed]",
            "text/plain": [
              "<Figure size 1152x288 with 2 Axes>"
            ]
          },
          "metadata": {
            "tags": []
          }
        },
        {
          "output_type": "display_data",
          "data": {
            "image/png": "[encoded data removed]",
            "text/plain": [
              "<Figure size 1152x288 with 2 Axes>"
            ]
          },
          "metadata": {
            "tags": []
          }
        },
        {
          "output_type": "display_data",
          "data": {
            "image/png": "[encoded data removed]",
            "text/plain": [
              "<Figure size 1152x288 with 2 Axes>"
            ]
          },
          "metadata": {
            "tags": []
          }
        },
        {
          "output_type": "display_data",
          "data": {
            "image/png": "[encoded data removed]",
            "text/plain": [
              "<Figure size 1152x288 with 2 Axes>"
            ]
          },
          "metadata": {
            "tags": []
          }
        },
        {
          "output_type": "display_data",
          "data": {
            "image/png": "[encoded data removed]",
            "text/plain": [
              "<Figure size 1152x288 with 2 Axes>"
            ]
          },
          "metadata": {
            "tags": []
          }
        }
      ]
    },
    {
      "cell_type": "markdown",
      "metadata": {
        "id": "Op-_UCMhgA9t",
        "colab_type": "text"
      },
      "source": [
        "## Data Preprocessing\n",
        "\n",
        "Lets give detailed attention to the following columns\n",
        "\n",
        "1. FT \n",
        "2. RT\n",
        "3. 3rd_Pt\n",
        "\n",
        "As per the definitions, we have 7 different types of firms, thus it would be good choice to convert FT into categorical variable\n",
        "\n",
        "Also RT and 3_rd Pt are columns consists of unique patents and unique common inventors thus it would be good to convert this data to next postive integer since patents and inventors can not be in the decimal digits"
      ]
    },
    {
      "cell_type": "markdown",
      "metadata": {
        "id": "H50GueNDUNxw",
        "colab_type": "text"
      },
      "source": [
        "### FT\n",
        "\n",
        "As per the definitions, we have 7 different types of firms, thus it would be good choice to convert FT into categorical variable"
      ]
    },
    {
      "cell_type": "code",
      "metadata": {
        "id": "AdUyJnyJjsyB",
        "colab_type": "code",
        "outputId": "6e8c4b2b-0b32-4e16-d4e8-791efa351e47",
        "colab": {
          "base_uri": "https://localhost:8080/",
          "height": 177
        }
      },
      "source": [
        "# lets analyze FT\n",
        "\n",
        "data['FT'].describe()\n"
      ],
      "execution_count": 0,
      "outputs": [
        {
          "output_type": "execute_result",
          "data": {
            "text/plain": [
              "count    65535.000000\n",
              "mean         2.225330\n",
              "std          0.661858\n",
              "min          1.000000\n",
              "25%          2.000000\n",
              "50%          2.000000\n",
              "75%          3.000000\n",
              "max          7.000000\n",
              "Name: FT, dtype: float64"
            ]
          },
          "metadata": {
            "tags": []
          },
          "execution_count": 13
        }
      ]
    },
    {
      "cell_type": "code",
      "metadata": {
        "id": "wFt07AAZZUuC",
        "colab_type": "code",
        "colab": {}
      },
      "source": [
        "# Converting FT into categorical variable\n",
        "\n",
        "data['Firm_Type']=0\n",
        "\n",
        "for i in range(len(data['FT'])):\n",
        "    if data['FT'][i]==1:\n",
        "        data['Firm_Type'][i]='unassigned'\n",
        "    if (data['FT'][i]==2):\n",
        "        data['Firm_Type'][i]='US non government organization'\n",
        "    if (data['FT'][i]==3):\n",
        "        data['Firm_Type'][i]='non US non government organization'\n",
        "    if (data['FT'][i]==4):\n",
        "        data['Firm_Type'][i]='US individuals'\n",
        "    if (data['FT'][i]==5):\n",
        "        data['Firm_Type'][i]='non US individuals'\n",
        "    if (data['FT'][i]==6):\n",
        "        data['Firm_Type'][i]='US government'\n",
        "    if (data['FT'][i]==7):\n",
        "        data['Firm_Type'][i]='non US government'"
      ],
      "execution_count": 0,
      "outputs": []
    },
    {
      "cell_type": "code",
      "metadata": {
        "id": "hJrDD2NmZpow",
        "colab_type": "code",
        "outputId": "91ad2ab0-73f3-4fa0-ce1d-81490ae51752",
        "colab": {
          "base_uri": "https://localhost:8080/",
          "height": 106
        }
      },
      "source": [
        "data['Firm_Type'].describe()"
      ],
      "execution_count": 0,
      "outputs": [
        {
          "output_type": "execute_result",
          "data": {
            "text/plain": [
              "count                              65535\n",
              "unique                                 7\n",
              "top       US non government organization\n",
              "freq                               43805\n",
              "Name: Firm_Type, dtype: object"
            ]
          },
          "metadata": {
            "tags": []
          },
          "execution_count": 15
        }
      ]
    },
    {
      "cell_type": "code",
      "metadata": {
        "id": "9D7fNJNSaO5o",
        "colab_type": "code",
        "outputId": "c7901012-03c2-4172-864b-3899b29f913a",
        "colab": {
          "base_uri": "https://localhost:8080/",
          "height": 159
        }
      },
      "source": [
        "data['Firm_Type'].value_counts()"
      ],
      "execution_count": 0,
      "outputs": [
        {
          "output_type": "execute_result",
          "data": {
            "text/plain": [
              "US non government organization        43805\n",
              "non US non government organization    16262\n",
              "unassigned                             4556\n",
              "US government                           467\n",
              "US individuals                          292\n",
              "non US individuals                       78\n",
              "non US government                        75\n",
              "Name: Firm_Type, dtype: int64"
            ]
          },
          "metadata": {
            "tags": []
          },
          "execution_count": 16
        }
      ]
    },
    {
      "cell_type": "markdown",
      "metadata": {
        "id": "YigaplnaVVMX",
        "colab_type": "text"
      },
      "source": [
        "### 3rd_PT & RT\n",
        "\n",
        "Also RT and 3_rd Pt are columns consists of unique patents and unique common inventors thus it would be good to convert this data to next postive integer since patents and inventors can not be in the decimal digits\n"
      ]
    },
    {
      "cell_type": "code",
      "metadata": {
        "id": "k4BrAJJxkmr8",
        "colab_type": "code",
        "outputId": "19e47577-fb27-416f-bc92-b91d53337d53",
        "colab": {
          "base_uri": "https://localhost:8080/",
          "height": 177
        }
      },
      "source": [
        "# Analyze 3rd_PT\n",
        "\n",
        "data['3rd_PT'].describe()"
      ],
      "execution_count": 0,
      "outputs": [
        {
          "output_type": "execute_result",
          "data": {
            "text/plain": [
              "count    65535.000000\n",
              "mean         0.006082\n",
              "std          0.078734\n",
              "min          0.000000\n",
              "25%          0.000000\n",
              "50%          0.000000\n",
              "75%          0.000000\n",
              "max          8.250000\n",
              "Name: 3rd_PT, dtype: float64"
            ]
          },
          "metadata": {
            "tags": []
          },
          "execution_count": 17
        }
      ]
    },
    {
      "cell_type": "code",
      "metadata": {
        "id": "2_gphkBShNCZ",
        "colab_type": "code",
        "outputId": "d1d52eeb-1e19-4834-fcae-a916c843961e",
        "colab": {
          "base_uri": "https://localhost:8080/",
          "height": 52
        }
      },
      "source": [
        "# Lets round off  to the next integer\n",
        "\n",
        "data['3rd_PT_new']=data['3rd_PT'].apply(np.ceil)\n",
        "# lets examine old and new entries\n",
        "\n",
        "print('old value: ',data['3rd_PT'].iloc[154])\n",
        "\n",
        "print('new value:', data['3rd_PT_new'].iloc[154])"
      ],
      "execution_count": 0,
      "outputs": [
        {
          "output_type": "stream",
          "text": [
            "old value:  1.33333\n",
            "new value: 2.0\n"
          ],
          "name": "stdout"
        }
      ]
    },
    {
      "cell_type": "code",
      "metadata": {
        "id": "lZHfr4E0mRNL",
        "colab_type": "code",
        "outputId": "3a8c3a90-97a6-4015-b39c-d1ac393c4249",
        "colab": {
          "base_uri": "https://localhost:8080/",
          "height": 177
        }
      },
      "source": [
        "# Describe new 3rd PT\n",
        "\n",
        "data['3rd_PT_new'].describe()"
      ],
      "execution_count": 0,
      "outputs": [
        {
          "output_type": "execute_result",
          "data": {
            "text/plain": [
              "count    65535.000000\n",
              "mean         0.012818\n",
              "std          0.128329\n",
              "min          0.000000\n",
              "25%          0.000000\n",
              "50%          0.000000\n",
              "75%          0.000000\n",
              "max          9.000000\n",
              "Name: 3rd_PT_new, dtype: float64"
            ]
          },
          "metadata": {
            "tags": []
          },
          "execution_count": 20
        }
      ]
    },
    {
      "cell_type": "code",
      "metadata": {
        "id": "JobCrDvZmciB",
        "colab_type": "code",
        "outputId": "264ce8b5-f320-473c-ab13-dca7fe79d15d",
        "colab": {
          "base_uri": "https://localhost:8080/",
          "height": 195
        }
      },
      "source": [
        "# Analyze RT\n",
        "\n",
        "print(data['RT'].describe())\n",
        "\n",
        "print('Index of the Max value in RT :', data['RT'].idxmax())"
      ],
      "execution_count": 0,
      "outputs": [
        {
          "output_type": "stream",
          "text": [
            "count    65535.000000\n",
            "mean         0.255761\n",
            "std          1.311577\n",
            "min          0.000000\n",
            "25%          0.000000\n",
            "50%          0.000000\n",
            "75%          0.000000\n",
            "max         87.444440\n",
            "Name: RT, dtype: float64\n",
            "Index of the Max value in RT : 60044\n"
          ],
          "name": "stdout"
        }
      ]
    },
    {
      "cell_type": "code",
      "metadata": {
        "id": "bd1Sv9Zrhoc7",
        "colab_type": "code",
        "outputId": "1f2ae93b-dad7-4893-e42b-d2f64b579da5",
        "colab": {
          "base_uri": "https://localhost:8080/",
          "height": 52
        }
      },
      "source": [
        "# Lets  round off  to the next integer for RT column\n",
        "\n",
        "data['RT_new']=data['RT'].apply(np.ceil)\n",
        "\n",
        "print('old value: ',data['RT'].iloc[60044])\n",
        "\n",
        "print('new value:', data['RT_new'].iloc[60044])"
      ],
      "execution_count": 0,
      "outputs": [
        {
          "output_type": "stream",
          "text": [
            "old value:  87.44444\n",
            "new value: 88.0\n"
          ],
          "name": "stdout"
        }
      ]
    },
    {
      "cell_type": "markdown",
      "metadata": {
        "id": "iFIXZgGvVnnE",
        "colab_type": "text"
      },
      "source": [
        "### Find exact year difference from the lag_d column\n",
        "\n",
        "typical comversion ratio is 1 day: 0.00273973 year"
      ]
    },
    {
      "cell_type": "code",
      "metadata": {
        "id": "l_m4aTftxg7q",
        "colab_type": "code",
        "colab": {}
      },
      "source": [
        "# Lets calculate exact year form lag_d\n",
        "# typcal comversion ratio is 1 day: 0.00273973 year\n",
        "\n",
        "data['E_Year_Diff']=0.00\n",
        "\n",
        "for i in range(len(data['lag_d'])):\n",
        "    data['E_Year_Diff'][i]=data['lag_d'][i]*0.00273973\n",
        "    data['E_Year_Diff'][i].round(2)\n"
      ],
      "execution_count": 0,
      "outputs": []
    },
    {
      "cell_type": "code",
      "metadata": {
        "id": "YQRnlMYZytbs",
        "colab_type": "code",
        "outputId": "69260d39-ae7d-410a-a39a-461ed27d5f52",
        "colab": {
          "base_uri": "https://localhost:8080/",
          "height": 230
        }
      },
      "source": [
        "data['E_Year_Diff']\n",
        "\n"
      ],
      "execution_count": 0,
      "outputs": [
        {
          "output_type": "execute_result",
          "data": {
            "text/plain": [
              "0        2.452058\n",
              "1        2.331510\n",
              "2        4.871240\n",
              "3        2.816442\n",
              "4        2.506853\n",
              "           ...   \n",
              "65530    0.000000\n",
              "65531    0.000000\n",
              "65532    0.000000\n",
              "65533    0.000000\n",
              "65534    0.000000\n",
              "Name: E_Year_Diff, Length: 65535, dtype: float64"
            ]
          },
          "metadata": {
            "tags": []
          },
          "execution_count": 24
        }
      ]
    },
    {
      "cell_type": "markdown",
      "metadata": {
        "id": "fP9GU2NtV0Ma",
        "colab_type": "text"
      },
      "source": [
        "### Check for Unusual values\n",
        "\n",
        "lets find top 10 and bottom 10 values of the columns and lets check wheather it has cetian anamolies"
      ]
    },
    {
      "cell_type": "code",
      "metadata": {
        "id": "caE3GFtSWHrL",
        "colab_type": "code",
        "outputId": "cc9fe1b7-06f8-4d81-ff1a-ed212fd740bd",
        "colab": {
          "base_uri": "https://localhost:8080/",
          "height": 5492
        }
      },
      "source": [
        "for var in data:\n",
        "  if data[var].dtype!='O':\n",
        "    print(var,data[var].nlargest(10))"
      ],
      "execution_count": 0,
      "outputs": [
        {
          "output_type": "stream",
          "text": [
            "pat 2088    6836878\n",
            "2089    6836548\n",
            "2090    6834186\n",
            "2091    6832380\n",
            "2092    6832291\n",
            "2093    6832202\n",
            "2094    6829764\n",
            "2095    6829592\n",
            "2097    6829236\n",
            "2096    6829231\n",
            "Name: pat, dtype: int64\n",
            "fwd 30361    841\n",
            "32469    559\n",
            "53470    551\n",
            "57201    534\n",
            "28320    522\n",
            "10333    498\n",
            "44156    490\n",
            "55054    489\n",
            "43505    487\n",
            "23120    479\n",
            "Name: fwd, dtype: int64\n",
            "lag_d 63903    5285\n",
            "64821    4449\n",
            "2089     4437\n",
            "41240    4386\n",
            "19269    4235\n",
            "45024    4226\n",
            "38098    4186\n",
            "65421    4156\n",
            "40286    4059\n",
            "48664    3915\n",
            "Name: lag_d, dtype: int64\n",
            "lag_y 63903    14\n",
            "64821    13\n",
            "2089     12\n",
            "19269    12\n",
            "38098    12\n",
            "41240    12\n",
            "45024    12\n",
            "65421    12\n",
            "10712    11\n",
            "40286    11\n",
            "Name: lag_y, dtype: int64\n",
            "noc 6313     375\n",
            "6797     348\n",
            "16679    320\n",
            "51265    313\n",
            "13206    260\n",
            "58429    244\n",
            "61749    244\n",
            "12238    243\n",
            "20430    236\n",
            "36101    235\n",
            "Name: noc, dtype: int64\n",
            "gy 2088    2004\n",
            "2089    2004\n",
            "2090    2004\n",
            "2091    2004\n",
            "2092    2004\n",
            "2093    2004\n",
            "2094    2004\n",
            "2095    2004\n",
            "2096    2004\n",
            "2097    2004\n",
            "Name: gy, dtype: int64\n",
            "ay 0     1997\n",
            "1     1997\n",
            "3     1997\n",
            "4     1997\n",
            "5     1997\n",
            "6     1997\n",
            "7     1997\n",
            "8     1997\n",
            "9     1997\n",
            "10    1997\n",
            "Name: ay, dtype: int64\n",
            "noi 34857    32\n",
            "20387    27\n",
            "39930    27\n",
            "3359     26\n",
            "24668    26\n",
            "31041    25\n",
            "56456    25\n",
            "63561    25\n",
            "13915    23\n",
            "28301    23\n",
            "Name: noi, dtype: int64\n",
            "UMC 1209     800\n",
            "3558     800\n",
            "4596     800\n",
            "5212     800\n",
            "5213     800\n",
            "5214     800\n",
            "8030     800\n",
            "8664     800\n",
            "9017     800\n",
            "12700    800\n",
            "Name: UMC, dtype: int64\n",
            "firm 49874    852061100\n",
            "26455      1765106\n",
            "38369      1765106\n",
            "61434      1765106\n",
            "1751        864063\n",
            "2033        864063\n",
            "2510        864063\n",
            "3024        864063\n",
            "3668        864063\n",
            "3957        864063\n",
            "Name: firm, dtype: int64\n",
            "MSA 634      610\n",
            "4463     610\n",
            "5345     610\n",
            "15944    610\n",
            "17420    610\n",
            "21031    610\n",
            "24183    610\n",
            "32990    610\n",
            "33983    610\n",
            "39390    610\n",
            "Name: MSA, dtype: int64\n",
            "tbm 10681    745\n",
            "3154     352\n",
            "717      343\n",
            "4020     341\n",
            "13278    337\n",
            "65383    305\n",
            "64447    289\n",
            "64748    289\n",
            "64971    289\n",
            "65273    289\n",
            "Name: tbm, dtype: int64\n",
            "tbru 2034     0.94438\n",
            "10764    0.93786\n",
            "23954    0.93556\n",
            "16464    0.93545\n",
            "64666    0.93500\n",
            "22438    0.93457\n",
            "31345    0.93371\n",
            "7793     0.93300\n",
            "38235    0.93285\n",
            "21275    0.93258\n",
            "Name: tbru, dtype: float64\n",
            "PAG 65239    6.022089e+06\n",
            "65084    6.021428e+06\n",
            "65240    6.014472e+06\n",
            "62800    5.988002e+06\n",
            "61510    5.974557e+06\n",
            "60658    5.974256e+06\n",
            "63663    5.973439e+06\n",
            "64329    5.948404e+06\n",
            "64809    5.946791e+06\n",
            "971      5.938781e+06\n",
            "Name: PAG, dtype: float64\n",
            "npr 10681    692\n",
            "60888    394\n",
            "1954     390\n",
            "10572    390\n",
            "1398     389\n",
            "4073     389\n",
            "6799     388\n",
            "4068     387\n",
            "64631    386\n",
            "61019    385\n",
            "Name: npr, dtype: int64\n",
            "fpr 2184     91\n",
            "10333    85\n",
            "8563     78\n",
            "8755     77\n",
            "9045     77\n",
            "64409    77\n",
            "8286     76\n",
            "60974    74\n",
            "62901    74\n",
            "13038    72\n",
            "Name: fpr, dtype: int64\n",
            "FT 4719     7\n",
            "6681     7\n",
            "7979     7\n",
            "8183     7\n",
            "9403     7\n",
            "12865    7\n",
            "13386    7\n",
            "14768    7\n",
            "14887    7\n",
            "15440    7\n",
            "Name: FT, dtype: int64\n",
            "Cent 21112    0.338530\n",
            "8082     0.318186\n",
            "4637     0.314310\n",
            "477      0.303132\n",
            "16904    0.293154\n",
            "11043    0.281340\n",
            "6814     0.280192\n",
            "3413     0.267122\n",
            "5890     0.267122\n",
            "11819    0.267122\n",
            "Name: Cent, dtype: float64\n",
            "EXP_Y 10523    24.0\n",
            "11528    24.0\n",
            "61010    24.0\n",
            "62549    24.0\n",
            "2461     23.0\n",
            "6963     23.0\n",
            "10891    23.0\n",
            "13946    23.0\n",
            "27975    23.0\n",
            "2596     22.0\n",
            "Name: EXP_Y, dtype: float64\n",
            "DT 6199     46.00000\n",
            "20334    43.50000\n",
            "5793     41.50000\n",
            "22106    35.66666\n",
            "6400     32.50000\n",
            "64808    32.00000\n",
            "3829     31.80000\n",
            "20328    31.80000\n",
            "61327    31.80000\n",
            "9925     31.00000\n",
            "Name: DT, dtype: float64\n",
            "IT 1309     3161.84589\n",
            "10928    3161.71321\n",
            "5802     3161.06451\n",
            "21102    3159.36045\n",
            "8577     3159.31341\n",
            "777      3158.74365\n",
            "8494     3158.72816\n",
            "9116     3158.64669\n",
            "18073    3158.01942\n",
            "6943     3157.34721\n",
            "Name: IT, dtype: float64\n",
            "RT 60044    87.44444\n",
            "3829     47.60000\n",
            "20328    47.60000\n",
            "61327    47.60000\n",
            "62791    42.50000\n",
            "856      37.83333\n",
            "1883     37.83333\n",
            "4087     37.83333\n",
            "4176     36.00000\n",
            "14790    33.40000\n",
            "Name: RT, dtype: float64\n",
            "3rd_PT 24963    8.25000\n",
            "28873    3.50000\n",
            "10354    3.00000\n",
            "35446    3.00000\n",
            "60383    2.75000\n",
            "29637    2.66666\n",
            "6915     2.50000\n",
            "29385    2.50000\n",
            "59082    2.25000\n",
            "23770    2.16666\n",
            "Name: 3rd_PT, dtype: float64\n",
            "Rnd_Int 20454    1639.00000\n",
            "60914     117.32283\n",
            "62990     117.32283\n",
            "4788       71.94915\n",
            "15376      71.94915\n",
            "17939      71.94915\n",
            "61917      71.94915\n",
            "62404      71.94915\n",
            "1576       20.30452\n",
            "19402      20.30452\n",
            "Name: Rnd_Int, dtype: float64\n",
            "FS 55410    854.0\n",
            "55953    854.0\n",
            "56039    854.0\n",
            "56285    854.0\n",
            "56880    854.0\n",
            "57041    854.0\n",
            "57048    854.0\n",
            "57095    854.0\n",
            "57262    854.0\n",
            "57272    854.0\n",
            "Name: FS, dtype: float64\n",
            "3rd_PT_new 24963    9.0\n",
            "28873    4.0\n",
            "6915     3.0\n",
            "10354    3.0\n",
            "11602    3.0\n",
            "23770    3.0\n",
            "29385    3.0\n",
            "29637    3.0\n",
            "35446    3.0\n",
            "59082    3.0\n",
            "Name: 3rd_PT_new, dtype: float64\n",
            "RT_new 60044    88.0\n",
            "3829     48.0\n",
            "20328    48.0\n",
            "61327    48.0\n",
            "62791    43.0\n",
            "856      38.0\n",
            "1883     38.0\n",
            "4087     38.0\n",
            "4176     36.0\n",
            "14790    34.0\n",
            "Name: RT_new, dtype: float64\n",
            "E_Year_Diff 63903    14.479473\n",
            "64821    12.189059\n",
            "2089     12.156182\n",
            "41240    12.016456\n",
            "19269    11.602757\n",
            "45024    11.578099\n",
            "38098    11.468510\n",
            "65421    11.386318\n",
            "40286    11.120564\n",
            "48664    10.726043\n",
            "Name: E_Year_Diff, dtype: float64\n"
          ],
          "name": "stdout"
        }
      ]
    },
    {
      "cell_type": "markdown",
      "metadata": {
        "id": "cIAyMpHhXpoy",
        "colab_type": "text"
      },
      "source": [
        "There is huge difference between largest and second largest value of the Rnd Investment column\n",
        "\n",
        "Largest Value ~1630\n",
        "&\n",
        "Second Largest ~ 116\n",
        "\n",
        "clearly this might me recording error, we can replace the value by mean of the column"
      ]
    },
    {
      "cell_type": "code",
      "metadata": {
        "id": "8Xm9XbliWTaZ",
        "colab_type": "code",
        "colab": {}
      },
      "source": [
        "# replace MAximul value from Rnd\n",
        "\n",
        "# find location of the maximum value\n",
        "\n",
        "m=data['Rnd_Int'].idxmax()\n",
        "id_mean = data['Rnd_Int'].mean()\n",
        "# replace with mean of the Rnd max\n",
        "data['Rnd_Int']=data['Rnd_Int'].replace({1639.0:np.nan})\n",
        "# check for new value"
      ],
      "execution_count": 0,
      "outputs": []
    },
    {
      "cell_type": "code",
      "metadata": {
        "id": "66csDq5-ar3e",
        "colab_type": "code",
        "outputId": "d0ee8616-1651-41c9-8a81-95816e0704f8",
        "colab": {
          "base_uri": "https://localhost:8080/",
          "height": 35
        }
      },
      "source": [
        "print(id_mean)"
      ],
      "execution_count": 0,
      "outputs": [
        {
          "output_type": "stream",
          "text": [
            "0.08641309193560946\n"
          ],
          "name": "stdout"
        }
      ]
    },
    {
      "cell_type": "code",
      "metadata": {
        "id": "_7b1Ja1ed6JU",
        "colab_type": "code",
        "outputId": "c4bb6221-8367-40b0-d03b-5582b46a110f",
        "colab": {
          "base_uri": "https://localhost:8080/",
          "height": 124
        }
      },
      "source": [
        "data['Rnd_Int'].head()"
      ],
      "execution_count": 0,
      "outputs": [
        {
          "output_type": "execute_result",
          "data": {
            "text/plain": [
              "0    0.05382\n",
              "1    0.02247\n",
              "2    0.00000\n",
              "3    0.09262\n",
              "4    0.05907\n",
              "Name: Rnd_Int, dtype: float64"
            ]
          },
          "metadata": {
            "tags": []
          },
          "execution_count": 27
        }
      ]
    },
    {
      "cell_type": "code",
      "metadata": {
        "id": "NUyDaqGoaqP1",
        "colab_type": "code",
        "outputId": "cb75b561-1f85-4134-914e-a1f5868c3f24",
        "colab": {
          "base_uri": "https://localhost:8080/",
          "height": 35
        }
      },
      "source": [
        "print('new value:', data['Rnd_Int'].iloc[20454])"
      ],
      "execution_count": 0,
      "outputs": [
        {
          "output_type": "stream",
          "text": [
            "new value: nan\n"
          ],
          "name": "stdout"
        }
      ]
    },
    {
      "cell_type": "code",
      "metadata": {
        "id": "Prznod_DaCtN",
        "colab_type": "code",
        "outputId": "51e0ae9e-faf4-4f14-c713-0ae7d815e65c",
        "colab": {
          "base_uri": "https://localhost:8080/",
          "height": 124
        }
      },
      "source": [
        "data['Rnd_Int']."
      ],
      "execution_count": 0,
      "outputs": [
        {
          "output_type": "execute_result",
          "data": {
            "text/plain": [
              "0    0.05382\n",
              "1    0.02247\n",
              "2    0.00000\n",
              "3    0.09262\n",
              "4    0.05907\n",
              "Name: Rnd_Int, dtype: float64"
            ]
          },
          "metadata": {
            "tags": []
          },
          "execution_count": 22
        }
      ]
    },
    {
      "cell_type": "markdown",
      "metadata": {
        "id": "DcR75AwTuETe",
        "colab_type": "text"
      },
      "source": [
        "\n",
        "\n",
        "### Removing Redundant Columns\n",
        "\n",
        "We can drop the following columns:\n",
        "1. pat\n",
        "2.lag_y,_ay,gy since I have created new column which denote exact year differece between ay and gy \n",
        "3. RT and 3rd P: since new columns creted for them\n"
      ]
    },
    {
      "cell_type": "code",
      "metadata": {
        "id": "flNxFYO3caCl",
        "colab_type": "code",
        "outputId": "594d2f4e-c9b1-49c0-ca48-34b8617e26b3",
        "colab": {
          "base_uri": "https://localhost:8080/",
          "height": 106
        }
      },
      "source": [
        "data.columns"
      ],
      "execution_count": 0,
      "outputs": [
        {
          "output_type": "execute_result",
          "data": {
            "text/plain": [
              "Index(['pat', 'fwd', 'lag_d', 'lag_y', 'noc', 'gy', 'ay', 'noi', 'UMC', 'firm',\n",
              "       'MSA', 'tbm', 'tbru', 'PAG', 'npr', 'fpr', 'FT', 'Cent', 'EXP_Y', 'DT',\n",
              "       'IT', 'RT', '3rd_PT', 'Rnd_Int', 'FS', 'Firm_Type', '3rd_PT_new',\n",
              "       'RT_new', 'E_Year_Diff'],\n",
              "      dtype='object')"
            ]
          },
          "metadata": {
            "tags": []
          },
          "execution_count": 28
        }
      ]
    },
    {
      "cell_type": "code",
      "metadata": {
        "id": "baRZtEk1cj6H",
        "colab_type": "code",
        "colab": {}
      },
      "source": [
        "# lets drop unwanted columns such as PAT, lag_d, gy, ay,firm,FS,FT\n",
        "\n",
        "data1=data.drop(['pat','lag_y','FT','RT','3rd_PT'], axis=1)"
      ],
      "execution_count": 0,
      "outputs": []
    },
    {
      "cell_type": "code",
      "metadata": {
        "id": "mapgtLJPdcrm",
        "colab_type": "code",
        "outputId": "3ec9d8b3-772e-44c5-fdd3-3c09520c4e6f",
        "colab": {
          "base_uri": "https://localhost:8080/",
          "height": 88
        }
      },
      "source": [
        "data1.columns\n",
        "#'ay','gy','UMC','firm','MSA'"
      ],
      "execution_count": 0,
      "outputs": [
        {
          "output_type": "execute_result",
          "data": {
            "text/plain": [
              "Index(['fwd', 'lag_d', 'noc', 'gy', 'ay', 'noi', 'UMC', 'firm', 'MSA', 'tbm',\n",
              "       'tbru', 'PAG', 'npr', 'fpr', 'Cent', 'EXP_Y', 'DT', 'IT', 'Rnd_Int',\n",
              "       'FS', 'Firm_Type', '3rd_PT_new', 'RT_new', 'E_Year_Diff'],\n",
              "      dtype='object')"
            ]
          },
          "metadata": {
            "tags": []
          },
          "execution_count": 27
        }
      ]
    },
    {
      "cell_type": "code",
      "metadata": {
        "id": "mjTqGHDJ8CaL",
        "colab_type": "code",
        "colab": {}
      },
      "source": [
        "categorical=['gy','ay','firm','UMC','MSA','PAG']"
      ],
      "execution_count": 0,
      "outputs": []
    },
    {
      "cell_type": "code",
      "metadata": {
        "id": "Nb1wLVfw8dGi",
        "colab_type": "code",
        "colab": {}
      },
      "source": [
        "data1[categorical] = data1[categorical].astype('O')\n",
        "#X_test[categorical] = X_test[categorical].astype('O')"
      ],
      "execution_count": 0,
      "outputs": []
    },
    {
      "cell_type": "code",
      "metadata": {
        "id": "z-dxDmiT9HHj",
        "colab_type": "code",
        "colab": {}
      },
      "source": [
        "continuous=list(set(list(data1.columns))-set(categorical))"
      ],
      "execution_count": 0,
      "outputs": []
    },
    {
      "cell_type": "code",
      "metadata": {
        "id": "BVHiEw0WdgvD",
        "colab_type": "code",
        "outputId": "3fcccd7a-efc8-4712-a5d8-68d42c1fb5d5",
        "colab": {
          "base_uri": "https://localhost:8080/",
          "height": 311
        }
      },
      "source": [
        "data1.describe()"
      ],
      "execution_count": 0,
      "outputs": [
        {
          "output_type": "execute_result",
          "data": {
            "text/html": [
              "<div>\n",
              "<style scoped>\n",
              "    .dataframe tbody tr th:only-of-type {\n",
              "        vertical-align: middle;\n",
              "    }\n",
              "\n",
              "    .dataframe tbody tr th {\n",
              "        vertical-align: top;\n",
              "    }\n",
              "\n",
              "    .dataframe thead th {\n",
              "        text-align: right;\n",
              "    }\n",
              "</style>\n",
              "<table border=\"1\" class=\"dataframe\">\n",
              "  <thead>\n",
              "    <tr style=\"text-align: right;\">\n",
              "      <th></th>\n",
              "      <th>fwd</th>\n",
              "      <th>lag_d</th>\n",
              "      <th>noc</th>\n",
              "      <th>noi</th>\n",
              "      <th>tbm</th>\n",
              "      <th>tbru</th>\n",
              "      <th>npr</th>\n",
              "      <th>fpr</th>\n",
              "      <th>Cent</th>\n",
              "      <th>EXP_Y</th>\n",
              "      <th>DT</th>\n",
              "      <th>IT</th>\n",
              "      <th>Rnd_Int</th>\n",
              "      <th>FS</th>\n",
              "      <th>3rd_PT_new</th>\n",
              "      <th>RT_new</th>\n",
              "      <th>E_Year_Diff</th>\n",
              "    </tr>\n",
              "  </thead>\n",
              "  <tbody>\n",
              "    <tr>\n",
              "      <th>count</th>\n",
              "      <td>65535.000000</td>\n",
              "      <td>65535.000000</td>\n",
              "      <td>65535.000000</td>\n",
              "      <td>65535.000000</td>\n",
              "      <td>65535.000000</td>\n",
              "      <td>65535.000000</td>\n",
              "      <td>65535.000000</td>\n",
              "      <td>65535.000000</td>\n",
              "      <td>65535.000000</td>\n",
              "      <td>65535.000000</td>\n",
              "      <td>65535.000000</td>\n",
              "      <td>65535.000000</td>\n",
              "      <td>65534.000000</td>\n",
              "      <td>38808.000000</td>\n",
              "      <td>65535.000000</td>\n",
              "      <td>65535.000000</td>\n",
              "      <td>65535.000000</td>\n",
              "    </tr>\n",
              "    <tr>\n",
              "      <th>mean</th>\n",
              "      <td>26.730800</td>\n",
              "      <td>923.934127</td>\n",
              "      <td>18.856489</td>\n",
              "      <td>2.444038</td>\n",
              "      <td>11.376257</td>\n",
              "      <td>0.497925</td>\n",
              "      <td>2.957595</td>\n",
              "      <td>1.084245</td>\n",
              "      <td>0.000498</td>\n",
              "      <td>1.638537</td>\n",
              "      <td>0.916463</td>\n",
              "      <td>80.069878</td>\n",
              "      <td>0.061404</td>\n",
              "      <td>129.095522</td>\n",
              "      <td>0.012818</td>\n",
              "      <td>0.317693</td>\n",
              "      <td>2.531330</td>\n",
              "    </tr>\n",
              "    <tr>\n",
              "      <th>std</th>\n",
              "      <td>33.322636</td>\n",
              "      <td>364.032954</td>\n",
              "      <td>15.708926</td>\n",
              "      <td>1.792134</td>\n",
              "      <td>15.674491</td>\n",
              "      <td>0.264624</td>\n",
              "      <td>10.918525</td>\n",
              "      <td>3.031729</td>\n",
              "      <td>0.006973</td>\n",
              "      <td>2.625059</td>\n",
              "      <td>2.324044</td>\n",
              "      <td>420.356247</td>\n",
              "      <td>0.929474</td>\n",
              "      <td>123.784974</td>\n",
              "      <td>0.128329</td>\n",
              "      <td>1.380214</td>\n",
              "      <td>0.997352</td>\n",
              "    </tr>\n",
              "    <tr>\n",
              "      <th>min</th>\n",
              "      <td>0.000000</td>\n",
              "      <td>0.000000</td>\n",
              "      <td>1.000000</td>\n",
              "      <td>1.000000</td>\n",
              "      <td>0.000000</td>\n",
              "      <td>0.000000</td>\n",
              "      <td>0.000000</td>\n",
              "      <td>0.000000</td>\n",
              "      <td>0.000000</td>\n",
              "      <td>0.000000</td>\n",
              "      <td>0.000000</td>\n",
              "      <td>0.000000</td>\n",
              "      <td>0.000000</td>\n",
              "      <td>0.000000</td>\n",
              "      <td>0.000000</td>\n",
              "      <td>0.000000</td>\n",
              "      <td>0.000000</td>\n",
              "    </tr>\n",
              "    <tr>\n",
              "      <th>25%</th>\n",
              "      <td>8.000000</td>\n",
              "      <td>691.500000</td>\n",
              "      <td>9.000000</td>\n",
              "      <td>1.000000</td>\n",
              "      <td>5.000000</td>\n",
              "      <td>0.360120</td>\n",
              "      <td>0.000000</td>\n",
              "      <td>0.000000</td>\n",
              "      <td>0.000000</td>\n",
              "      <td>0.000000</td>\n",
              "      <td>0.000000</td>\n",
              "      <td>0.000000</td>\n",
              "      <td>0.000000</td>\n",
              "      <td>19.000000</td>\n",
              "      <td>0.000000</td>\n",
              "      <td>0.000000</td>\n",
              "      <td>1.894523</td>\n",
              "    </tr>\n",
              "    <tr>\n",
              "      <th>50%</th>\n",
              "      <td>16.000000</td>\n",
              "      <td>888.000000</td>\n",
              "      <td>16.000000</td>\n",
              "      <td>2.000000</td>\n",
              "      <td>8.000000</td>\n",
              "      <td>0.560000</td>\n",
              "      <td>1.000000</td>\n",
              "      <td>0.000000</td>\n",
              "      <td>0.000000</td>\n",
              "      <td>0.250000</td>\n",
              "      <td>0.000000</td>\n",
              "      <td>0.000000</td>\n",
              "      <td>0.050170</td>\n",
              "      <td>94.000000</td>\n",
              "      <td>0.000000</td>\n",
              "      <td>0.000000</td>\n",
              "      <td>2.432880</td>\n",
              "    </tr>\n",
              "    <tr>\n",
              "      <th>75%</th>\n",
              "      <td>33.000000</td>\n",
              "      <td>1100.000000</td>\n",
              "      <td>24.000000</td>\n",
              "      <td>3.000000</td>\n",
              "      <td>13.000000</td>\n",
              "      <td>0.710770</td>\n",
              "      <td>2.000000</td>\n",
              "      <td>1.000000</td>\n",
              "      <td>0.000000</td>\n",
              "      <td>2.500000</td>\n",
              "      <td>0.666660</td>\n",
              "      <td>0.000000</td>\n",
              "      <td>0.073030</td>\n",
              "      <td>225.000000</td>\n",
              "      <td>0.000000</td>\n",
              "      <td>0.000000</td>\n",
              "      <td>3.013703</td>\n",
              "    </tr>\n",
              "    <tr>\n",
              "      <th>max</th>\n",
              "      <td>841.000000</td>\n",
              "      <td>5285.000000</td>\n",
              "      <td>375.000000</td>\n",
              "      <td>32.000000</td>\n",
              "      <td>745.000000</td>\n",
              "      <td>0.944380</td>\n",
              "      <td>692.000000</td>\n",
              "      <td>91.000000</td>\n",
              "      <td>0.338530</td>\n",
              "      <td>24.000000</td>\n",
              "      <td>46.000000</td>\n",
              "      <td>3161.845890</td>\n",
              "      <td>117.322830</td>\n",
              "      <td>854.000000</td>\n",
              "      <td>9.000000</td>\n",
              "      <td>88.000000</td>\n",
              "      <td>14.479473</td>\n",
              "    </tr>\n",
              "  </tbody>\n",
              "</table>\n",
              "</div>"
            ],
            "text/plain": [
              "                fwd         lag_d  ...        RT_new   E_Year_Diff\n",
              "count  65535.000000  65535.000000  ...  65535.000000  65535.000000\n",
              "mean      26.730800    923.934127  ...      0.317693      2.531330\n",
              "std       33.322636    364.032954  ...      1.380214      0.997352\n",
              "min        0.000000      0.000000  ...      0.000000      0.000000\n",
              "25%        8.000000    691.500000  ...      0.000000      1.894523\n",
              "50%       16.000000    888.000000  ...      0.000000      2.432880\n",
              "75%       33.000000   1100.000000  ...      0.000000      3.013703\n",
              "max      841.000000   5285.000000  ...     88.000000     14.479473\n",
              "\n",
              "[8 rows x 17 columns]"
            ]
          },
          "metadata": {
            "tags": []
          },
          "execution_count": 33
        }
      ]
    },
    {
      "cell_type": "markdown",
      "metadata": {
        "id": "BLJlRM169Rjp",
        "colab_type": "text"
      },
      "source": [
        "# 3. Divide Data into train test\n",
        "\n",
        "\n"
      ]
    },
    {
      "cell_type": "code",
      "metadata": {
        "colab_type": "code",
        "outputId": "51ae624f-3861-400a-a5c9-b0c0e52b98d1",
        "id": "o5CbsiLm5amP",
        "colab": {
          "base_uri": "https://localhost:8080/",
          "height": 88
        }
      },
      "source": [
        "# divide data into train and test data for considering noi as int\n",
        "\n",
        "from sklearn.model_selection import train_test_split\n",
        "X_train, X_test, y_train, y_test = train_test_split(\n",
        "  data1.drop('fwd', axis=1), data1['fwd'], test_size=0.3, random_state=0)\n",
        "\n",
        "X_train.shape, X_test.shape\n",
        "\n",
        "X_train.columns"
      ],
      "execution_count": 0,
      "outputs": [
        {
          "output_type": "execute_result",
          "data": {
            "text/plain": [
              "Index(['lag_d', 'noc', 'gy', 'ay', 'noi', 'UMC', 'firm', 'MSA', 'tbm', 'tbru',\n",
              "       'PAG', 'npr', 'fpr', 'Cent', 'EXP_Y', 'DT', 'IT', 'Rnd_Int', 'FS',\n",
              "       'Firm_Type', '3rd_PT_new', 'RT_new', 'E_Year_Diff'],\n",
              "      dtype='object')"
            ]
          },
          "metadata": {
            "tags": []
          },
          "execution_count": 35
        }
      ]
    },
    {
      "cell_type": "markdown",
      "metadata": {
        "id": "rBEcPfbpFVI3",
        "colab_type": "text"
      },
      "source": [
        "# 4. Data Preprocessing Pipeline\n",
        "\n",
        "1. Scaler for scalling numerical values\n",
        "2. one hot encoding fo categorcal variables\n",
        "3. mean value impuration for missing data\n",
        "4. rare Encoding"
      ]
    },
    {
      "cell_type": "code",
      "metadata": {
        "id": "O_PxtWeWJxE2",
        "colab_type": "code",
        "colab": {}
      },
      "source": [
        "from sklearn.pipeline import Pipeline\n",
        "from sklearn.preprocessing import StandardScaler\n",
        "from sklearn.preprocessing import MinMaxScaler\n",
        "from feature_engine import missing_data_imputers as mdi\n",
        "from feature_engine import discretisers as dsc\n",
        "from feature_engine import categorical_encoders as ce\n",
        "from feature_engine.categorical_encoders import OneHotCategoricalEncoder"
      ],
      "execution_count": 0,
      "outputs": []
    },
    {
      "cell_type": "code",
      "metadata": {
        "id": "IRrs1VERnvFH",
        "colab_type": "code",
        "colab": {}
      },
      "source": [
        "from sklearn.metrics import mean_squared_error, r2_score\n",
        "from math import sqrt"
      ],
      "execution_count": 0,
      "outputs": []
    },
    {
      "cell_type": "code",
      "metadata": {
        "id": "IUSQX2pdScyV",
        "colab_type": "code",
        "outputId": "f7c91938-0bcb-41f8-81c0-f38feba0f7dc",
        "colab": {
          "base_uri": "https://localhost:8080/",
          "height": 550
        }
      },
      "source": [
        "X_train.info()\n"
      ],
      "execution_count": 0,
      "outputs": [
        {
          "output_type": "stream",
          "text": [
            "<class 'pandas.core.frame.DataFrame'>\n",
            "Int64Index: 45874 entries, 11158 to 2732\n",
            "Data columns (total 23 columns):\n",
            " #   Column       Non-Null Count  Dtype  \n",
            "---  ------       --------------  -----  \n",
            " 0   lag_d        45874 non-null  int64  \n",
            " 1   noc          45874 non-null  int64  \n",
            " 2   gy           45874 non-null  object \n",
            " 3   ay           45874 non-null  object \n",
            " 4   noi          45874 non-null  int64  \n",
            " 5   UMC          45874 non-null  object \n",
            " 6   firm         45874 non-null  object \n",
            " 7   MSA          45874 non-null  object \n",
            " 8   tbm          45874 non-null  int64  \n",
            " 9   tbru         45874 non-null  float64\n",
            " 10  PAG          45874 non-null  object \n",
            " 11  npr          45874 non-null  int64  \n",
            " 12  fpr          45874 non-null  int64  \n",
            " 13  Cent         45874 non-null  float64\n",
            " 14  EXP_Y        45874 non-null  float64\n",
            " 15  DT           45874 non-null  float64\n",
            " 16  IT           45874 non-null  float64\n",
            " 17  Rnd_Int      45873 non-null  float64\n",
            " 18  FS           27048 non-null  float64\n",
            " 19  Firm_Type    45874 non-null  object \n",
            " 20  3rd_PT_new   45874 non-null  float64\n",
            " 21  RT_new       45874 non-null  float64\n",
            " 22  E_Year_Diff  45874 non-null  float64\n",
            "dtypes: float64(10), int64(6), object(7)\n",
            "memory usage: 8.4+ MB\n"
          ],
          "name": "stdout"
        }
      ]
    },
    {
      "cell_type": "markdown",
      "metadata": {
        "id": "BEjuW1D6NR59",
        "colab_type": "text"
      },
      "source": [
        "('categorical_enc', ce.OrdinalCategoricalEncoder(\n",
        "        encoding_method='arbitrary', variables=['PAG'])),\n"
      ]
    },
    {
      "cell_type": "code",
      "metadata": {
        "id": "66O2eSZJFNWV",
        "colab_type": "code",
        "colab": {}
      },
      "source": [
        "patent_pipe = Pipeline([\n",
        "\n",
        "    # missing data imputation \n",
        "    \n",
        "    ('imputer_num', mdi.MeanMedianImputer(imputation_method='mean',\n",
        "                                          variables=['FS','Rnd_Int'])),\n",
        "    \n",
        "    # categorical encoding \n",
        "  ('rare_label_enc', ce.RareLabelCategoricalEncoder(\n",
        "        tol=0.0001,n_categories=6, variables=['gy', 'ay', 'firm', 'UMC', 'MSA','PAG'])),\n",
        "  \n",
        "  #('Ordinal',ce.OrdinalCategoricalEncoder(encoding_method='ordered',variables=['gy', 'ay'])),\n",
        "   \n",
        "  ('one hot encoding',ce.OneHotCategoricalEncoder(variables=['gy', 'ay', 'firm', 'UMC', 'MSA','Firm_Type','PAG'],\n",
        "    drop_last=True)),\n",
        "\n",
        "   \n",
        "   \n",
        "    \n",
        "    # feature Scaling\n",
        "    ('scaler', MinMaxScaler()),\n",
        "    \n",
        "  \n",
        "])"
      ],
      "execution_count": 0,
      "outputs": []
    },
    {
      "cell_type": "code",
      "metadata": {
        "id": "y-wbMA4VNDTc",
        "colab_type": "code",
        "outputId": "5aba98d5-d209-4ac2-d4b9-993f5fefcd9a",
        "colab": {
          "base_uri": "https://localhost:8080/",
          "height": 284
        }
      },
      "source": [
        "patent_pipe.fit(X_train,y_train)"
      ],
      "execution_count": 0,
      "outputs": [
        {
          "output_type": "execute_result",
          "data": {
            "text/plain": [
              "Pipeline(memory=None,\n",
              "         steps=[('imputer_num',\n",
              "                 MeanMedianImputer(imputation_method='mean',\n",
              "                                   variables=['FS', 'Rnd_Int'])),\n",
              "                ('rare_label_enc',\n",
              "                 RareLabelCategoricalEncoder(n_categories=6, tol=0.0001,\n",
              "                                             variables=['gy', 'ay', 'firm',\n",
              "                                                        'UMC', 'MSA', 'PAG'])),\n",
              "                ('one hot encoding',\n",
              "                 OneHotCategoricalEncoder(drop_last=True, top_categories=None,\n",
              "                                          variables=['gy', 'ay', 'firm', 'UMC',\n",
              "                                                     'MSA', 'Firm_Type',\n",
              "                                                     'PAG'])),\n",
              "                ('scaler', MinMaxScaler(copy=True, feature_range=(0, 1)))],\n",
              "         verbose=False)"
            ]
          },
          "metadata": {
            "tags": []
          },
          "execution_count": 41
        }
      ]
    },
    {
      "cell_type": "code",
      "metadata": {
        "id": "YxXf6-GUTXEo",
        "colab_type": "code",
        "colab": {}
      },
      "source": [
        "X_train=patent_pipe.transform(X_train)\n",
        "X_test=patent_pipe.transform(X_test)"
      ],
      "execution_count": 0,
      "outputs": []
    },
    {
      "cell_type": "markdown",
      "metadata": {
        "id": "NE-VqPk9PIqz",
        "colab_type": "text"
      },
      "source": [
        "# Regression Models\n",
        "\n"
      ]
    },
    {
      "cell_type": "markdown",
      "metadata": {
        "id": "jiXL0HbI_wY7",
        "colab_type": "text"
      },
      "source": [
        "## Linear Regression"
      ]
    },
    {
      "cell_type": "code",
      "metadata": {
        "id": "ApzQBSe8PNPH",
        "colab_type": "code",
        "outputId": "1920fa16-0463-460e-f6d8-2c0f7e1c5e27",
        "colab": {
          "base_uri": "https://localhost:8080/",
          "height": 106
        }
      },
      "source": [
        "from sklearn.linear_model import LinearRegression\n",
        "from sklearn.model_selection import cross_val_score\n",
        "\n",
        "lr = LinearRegression().fit(X_train, y_train)\n",
        "cv_scores = cross_val_score(lr, X_train, y_train)\n",
        "\n",
        "# Mean Cross validation Score\n",
        "print(\"Mean Cross-validation scores: {}\".format(cv_scores))\n",
        "print(\"Mean Cross-validation scores: {}\".format(cv_scores.mean()))\n",
        "# Print Co-efficients\n",
        "# Check test data set performance\n",
        "print(\"LR Performance Train: \", lr.score(X_train,y_train))\n",
        "print(\"LR Performance Test: \", lr.score(X_test,y_test))"
      ],
      "execution_count": 0,
      "outputs": [
        {
          "output_type": "stream",
          "text": [
            "Mean Cross-validation scores: [ 1.76412657e-01  2.21265617e-01  1.64952589e-01  1.88362020e-01\n",
            " -1.37927523e+18]\n",
            "Mean Cross-validation scores: -2.7585504639232326e+17\n",
            "LR Performance Train:  0.23038259210693388\n",
            "LR Performance Test:  0.1910862084507967\n"
          ],
          "name": "stdout"
        }
      ]
    },
    {
      "cell_type": "markdown",
      "metadata": {
        "id": "mICvkCtm_400",
        "colab_type": "text"
      },
      "source": [
        "## Ridge Regression"
      ]
    },
    {
      "cell_type": "code",
      "metadata": {
        "id": "SVetIA5VRtnj",
        "colab_type": "code",
        "outputId": "8b513570-b318-4cad-d7e8-c01ff023e1e9",
        "colab": {
          "base_uri": "https://localhost:8080/",
          "height": 301
        }
      },
      "source": [
        "# Train a Ridge regression model, report the coefficients, the best parameters, and model performance \n",
        "from sklearn.model_selection import GridSearchCV\n",
        "from sklearn.linear_model import Ridge\n",
        "ridge = Ridge()\n",
        "\n",
        "#define a list of parameters\n",
        "param_ridge = {'alpha':[0.001, 0.01, 0.1, 1, 10] }\n",
        "\n",
        "grid_ridge = GridSearchCV(ridge, param_ridge, cv=10, return_train_score = True)\n",
        "grid_ridge.fit(X_train, y_train)\n",
        "\n",
        "# Mean Cross Validation Score\n",
        "print(\"Best Mean Cross-validation score: {:.4f}\".format(grid_ridge.best_score_))\n",
        "\n",
        "print()\n",
        "\n",
        "#find best parameters\n",
        "print('Ridge parameters: ', grid_ridge.best_params_)\n",
        "\n",
        "# print co-eff\n",
        "\n",
        "print(\"Ridge.coef_:\", grid_ridge.best_estimator_.coef_)\n",
        "print(\"Ridge.intercept_:\", grid_ridge.best_estimator_.intercept_)\n",
        "\n",
        "# Check test data set performance\n",
        "print(\"Ridge Train Performance: \", grid_ridge.score(X_train,y_train))\n",
        "print(\"Ridge Test Performance: \", grid_ridge.score(X_test,y_test))\n",
        "\n",
        "print()\n",
        "X_train_preds = grid_ridge.predict(X_train)\n",
        "X_test_preds = grid_ridge.predict(X_test)\n",
        "\n",
        "print('train mse: {}'.format(mean_squared_error(y_train, X_train_preds)))\n",
        "print('train rmse: {}'.format(sqrt(mean_squared_error(y_train, X_train_preds))))\n",
        "print('train r2: {}'.format(r2_score(y_train, X_train_preds)))\n",
        "print()\n",
        "print('test mse: {}'.format(mean_squared_error(y_test, X_test_preds)))\n",
        "print('test rmse: {}'.format(sqrt(mean_squared_error(y_test, X_test_preds))))\n",
        "print('test r2: {}'.format(r2_score(y_test, X_test_preds)))"
      ],
      "execution_count": 0,
      "outputs": [
        {
          "output_type": "stream",
          "text": [
            "Best Mean Cross-validation score: 0.1951\n",
            "\n",
            "Ridge parameters:  {'alpha': 1}\n",
            "Ridge.coef_: [-16.22278304  87.05464079  41.59702853 ...  -5.53138808  11.15024476\n",
            "   6.73574374]\n",
            "Ridge.intercept_: 9.738520507422304\n",
            "Ridge Train Performance:  0.2296733570101882\n",
            "Ridge Test Performance:  0.19351566182786628\n",
            "\n",
            "train mse: 835.3412541467021\n",
            "train rmse: 28.902270743778974\n",
            "train r2: 0.2296733570101882\n",
            "\n",
            "test mse: 944.3599576675573\n",
            "test rmse: 30.730440245261004\n",
            "test r2: 0.19351566182786628\n"
          ],
          "name": "stdout"
        }
      ]
    },
    {
      "cell_type": "markdown",
      "metadata": {
        "id": "q1fhaSAkSSlL",
        "colab_type": "text"
      },
      "source": [
        "##Lasso Regression"
      ]
    },
    {
      "cell_type": "code",
      "metadata": {
        "id": "SC8fqYG1SXhs",
        "colab_type": "code",
        "outputId": "28696ff9-6eb3-49cd-886a-6c1ccba2dbeb",
        "colab": {
          "base_uri": "https://localhost:8080/",
          "height": 284
        }
      },
      "source": [
        "from sklearn.linear_model import Lasso\n",
        "lasso = Lasso(random_state=0)\n",
        "\n",
        "#define a list of parameters\n",
        "param_lasso = {'alpha':[0.001,0.015,0.0095, 0.01, 0.1,0.09,0.11,0.05] }\n",
        "grid_lasso = GridSearchCV(lasso, param_lasso, cv=10, return_train_score = True)\n",
        "grid_lasso.fit(X_train, y_train)\n",
        "\n",
        "# Mean Cross Validation Score\n",
        "print(\"Best Mean Cross-validation score: {:.4f}\".format(grid_lasso.best_score_))\n",
        "print()\n",
        "\n",
        "#find best parameters\n",
        "print('Lasso parameters: ', grid_lasso.best_params_)\n",
        "\n",
        "# print co-eff\n",
        "\n",
        "print(\"Lasso.coef_:\", grid_lasso.best_estimator_.coef_)\n",
        "print(\"Lasso.intercept_:\", grid_lasso.best_estimator_.intercept_)\n",
        "\n",
        "# Check test data set performance\n",
        "print(\"Lasso Test Performance: \", grid_lasso.score(X_train,y_train))\n",
        "print(\"Lasso Test Performance: \", grid_lasso.score(X_test,y_test))\n",
        "\n",
        "X_train_preds = grid_lasso.predict(X_train)\n",
        "X_test_preds = grid_lasso.predict(X_test)\n",
        "\n",
        "print('train mse: {}'.format(mean_squared_error(y_train, X_train_preds)))\n",
        "print('train rmse: {}'.format(sqrt(mean_squared_error(y_train, X_train_preds))))\n",
        "print('train r2: {}'.format(r2_score(y_train, X_train_preds)))\n",
        "print()\n",
        "print('test mse: {}'.format(mean_squared_error(y_test, X_test_preds)))\n",
        "print('test rmse: {}'.format(sqrt(mean_squared_error(y_test, X_test_preds))))\n",
        "print('test r2: {}'.format(r2_score(y_test, X_test_preds)))"
      ],
      "execution_count": 0,
      "outputs": [
        {
          "output_type": "stream",
          "text": [
            "Best Mean Cross-validation score: 0.1953\n",
            "\n",
            "Lasso parameters:  {'alpha': 0.001}\n",
            "Lasso.coef_: [-1.94581011e+01  8.77929524e+01  4.11997687e+01 ... -2.06927928e+00\n",
            "  4.26583735e-02  0.00000000e+00]\n",
            "Lasso.intercept_: 5.517332245329289\n",
            "Lasso Test Performance:  0.2271179284678706\n",
            "Lasso Test Performance:  0.19481153290784048\n",
            "train mse: 838.112357681609\n",
            "train rmse: 28.950170253067753\n",
            "train r2: 0.2271179284678706\n",
            "\n",
            "test mse: 942.8425459829105\n",
            "test rmse: 30.705741254412185\n",
            "test r2: 0.19481153290784048\n"
          ],
          "name": "stdout"
        }
      ]
    },
    {
      "cell_type": "markdown",
      "metadata": {
        "id": "HWvBTcKTIpYG",
        "colab_type": "text"
      },
      "source": [
        "##Elastic Net"
      ]
    },
    {
      "cell_type": "code",
      "metadata": {
        "id": "ueFBVbzWQ2D4",
        "colab_type": "code",
        "outputId": "fa50c454-1217-4277-8099-e541f0285a45",
        "colab": {
          "base_uri": "https://localhost:8080/",
          "height": 88
        }
      },
      "source": [
        "#Elastic net\n",
        "\n",
        "from sklearn.linear_model import ElasticNet\n",
        "elasticnet = ElasticNet()\n",
        "\n",
        "#define a list of parameters\n",
        "param_elasticnet = {'alpha':[0.0001, 0.001, 0.01, 1], 'l1_ratio' :[0.2,0.4,0.3]}\n",
        "\n",
        "grid_elasticnet = GridSearchCV(elasticnet , param_elasticnet, cv=10, return_train_score = True)\n",
        "grid_elasticnet.fit(X_train, y_train)\n",
        "\n",
        "grid_elasticnet_train_score = grid_elasticnet.score(X_train, y_train)\n",
        "grid_elasticnet_test_score = grid_elasticnet.score(X_test, y_test)\n",
        "\n",
        "print('Training set score: ', grid_elasticnet_train_score)\n",
        "print('Test score: ', grid_elasticnet_test_score)\n",
        "\n",
        "#find best parameters\n",
        "print('Best parameters: ', grid_elasticnet.best_params_)\n",
        "print('Best cross-validation score:', grid_elasticnet.best_score_)"
      ],
      "execution_count": 0,
      "outputs": [
        {
          "output_type": "stream",
          "text": [
            "Training set score:  0.22592557407525438\n",
            "Test score:  0.1957288363427523\n",
            "Best parameters:  {'alpha': 0.0001, 'l1_ratio': 0.2}\n",
            "Best cross-validation score: 0.19676453922867682\n"
          ],
          "name": "stdout"
        }
      ]
    },
    {
      "cell_type": "code",
      "metadata": {
        "id": "8hIizqPVGuQV",
        "colab_type": "code",
        "outputId": "a1ad1c1b-7ed7-4baa-b74f-fd8b44a998f2",
        "colab": {
          "base_uri": "https://localhost:8080/",
          "height": 141
        }
      },
      "source": [
        "X_train_preds = grid_elasticnet.predict(X_train)\n",
        "X_test_preds = grid_elasticnet.predict(X_test)\n",
        "\n",
        "print('train mse: {}'.format(mean_squared_error(y_train, X_train_preds)))\n",
        "print('train rmse: {}'.format(sqrt(mean_squared_error(y_train, X_train_preds))))\n",
        "print('train r2: {}'.format(r2_score(y_train, X_train_preds)))\n",
        "print()\n",
        "print('test mse: {}'.format(mean_squared_error(y_test, X_test_preds)))\n",
        "print('test rmse: {}'.format(sqrt(mean_squared_error(y_test, X_test_preds))))\n",
        "print('test r2: {}'.format(r2_score(y_test, X_test_preds)))"
      ],
      "execution_count": 0,
      "outputs": [
        {
          "output_type": "stream",
          "text": [
            "train mse: 839.4053453028724\n",
            "train rmse: 28.972492907978637\n",
            "train r2: 0.22592557407525438\n",
            "\n",
            "test mse: 941.7684214252968\n",
            "test rmse: 30.688245655711516\n",
            "test r2: 0.1957288363427523\n"
          ],
          "name": "stdout"
        }
      ]
    },
    {
      "cell_type": "markdown",
      "metadata": {
        "id": "K3jNneRtABU1",
        "colab_type": "text"
      },
      "source": [
        "## Polynomial Regression"
      ]
    },
    {
      "cell_type": "code",
      "metadata": {
        "id": "Mtv5SPukVMCX",
        "colab_type": "code",
        "outputId": "3386a9d8-ed1c-4ebf-fd88-700207c483b4",
        "colab": {
          "base_uri": "https://localhost:8080/",
          "height": 212
        }
      },
      "source": [
        "# Polynomial\n",
        "from sklearn.linear_model import LinearRegression\n",
        "from sklearn.preprocessing  import PolynomialFeatures\n",
        "from sklearn.pipeline import make_pipeline\n",
        "\n",
        "poly = PolynomialFeatures()\n",
        "lreg = LinearRegression()\n",
        "#define a list of parameters\n",
        "param_poly = {'polynomialfeatures__degree':range(1,2)}\n",
        "\n",
        "#apply polynomial regression in pipeline\n",
        "pipe_poly = make_pipeline(PolynomialFeatures(), LinearRegression())\n",
        "grid_poly = GridSearchCV(pipe_poly, param_poly,cv=10, n_jobs=-1, return_train_score = True)\n",
        "\n",
        "# GridSearchCV(estimator, param_grid, scoring=None, n_jobs=None, cv=’warn’, return_train_score=’warn’)\n",
        "#      estimator : estimator object.\n",
        "#      param_grid : dict or list of dictionaries\n",
        "#      scoring :If None, the estimator’s default scorer (if available) is used\n",
        "#      n_jobs: Number of jobs to run in parallel\n",
        "#      cv : Determines the cross-validation splitting strategy.\n",
        "#      return_train_score : If False, the cv_results_ attribute will not include training scores.\n",
        "\n",
        "\n",
        "grid_poly.fit(X_train, y_train)\n",
        "\n",
        "\n",
        "#find best parameters\n",
        "print('Best parameters: ', grid_poly.best_params_)\n",
        "\n",
        "\n",
        "print('train score: ', grid_poly.score(X_train, y_train))\n",
        "print('test score: ', grid_poly.score(X_test, y_test))\n",
        "\n",
        "print(\"Cross Validation training results\", grid_poly.cv_results_['mean_train_score'])\n",
        "print(\"Croass Validation testing results\", grid_poly.cv_results_['mean_test_score'])\n",
        "\n",
        "# print the coefficients\n",
        "print('Poly features: ', grid_poly.best_estimator_.named_steps['polynomialfeatures'].n_output_features_)\n",
        "print('Coefficients: ', grid_poly.best_estimator_.named_steps['linearregression'].coef_)"
      ],
      "execution_count": 0,
      "outputs": [
        {
          "output_type": "stream",
          "text": [
            "Best parameters:  {'polynomialfeatures__degree': 1}\n",
            "train score:  0.07799855169480874\n",
            "test score:  0.07885816773209964\n",
            "Cross Validation training results [0.07807179]\n",
            "Croass Validation testing results [0.07557607]\n",
            "Poly features:  23\n",
            "Coefficients:  [  0.          98.15397504  43.31553311  59.52490862   5.93267161\n",
            " -12.36642539  98.35737363   8.30256578   6.9266682  -10.26153244\n",
            " -10.6756249   -9.14454766 -21.53632608  10.39928783 -24.55160548\n",
            " -71.55132029 -30.24727807   9.22832371  -2.21997685  11.31422422\n",
            "  -0.42912588   5.23554699  13.51344159]\n"
          ],
          "name": "stdout"
        }
      ]
    },
    {
      "cell_type": "code",
      "metadata": {
        "id": "AP_jMe3IAKt0",
        "colab_type": "code",
        "colab": {}
      },
      "source": [
        "from sklearn.linear_model import LinearRegression\n",
        "from sklearn.preprocessing  import PolynomialFeatures\n",
        "from sklearn.pipeline import make_pipeline\n",
        "pipe_poly=Pipeline([ \n",
        "    ('polynomialfeatures', PolynomialFeatures(degree=2))\n",
        "    ,('norm_reg',LinearRegression())\n",
        "])\n",
        "    \n",
        "param_poly = [{'norm_reg':[LinearRegression()]},\n",
        "              {'norm_reg':[Lasso()],'norm_reg__alpha':[0.01,0.1,1]},\n",
        "              {'norm_reg':[Ridge()],'norm_reg__alpha':[0.01,0.1,1]}\n",
        "             ]\n",
        "grid_poly = GridSearchCV(pipe_poly, param_poly,cv=5, return_train_score = True,scoring='r2')\n",
        "\n",
        " \n",
        "\n",
        "grid_poly.fit(X_train, y_train)\n",
        "\n",
        "print('Best parameters: ', grid_poly.best_params_)\n",
        "\n",
        "\n",
        "print('train score: ', grid_poly.score(X_train, y_train))\n",
        "print('test score: ', grid_poly.score(X_test, y_test))"
      ],
      "execution_count": 0,
      "outputs": []
    },
    {
      "cell_type": "markdown",
      "metadata": {
        "id": "o2P6eP_uATGu",
        "colab_type": "text"
      },
      "source": [
        "##Linear regression with SGD using Gridsearch"
      ]
    },
    {
      "cell_type": "code",
      "metadata": {
        "id": "MjIF10XC_LSi",
        "colab_type": "code",
        "outputId": "39ec0893-830c-415f-9d21-82f7e2dba79c",
        "colab": {
          "base_uri": "https://localhost:8080/",
          "height": 238
        }
      },
      "source": [
        "#SGD\n",
        "\n",
        "# linear regression with SGD using Gridsearch\n",
        "\n",
        "from sklearn.model_selection import GridSearchCV\n",
        "from sklearn.linear_model import SGDRegressor\n",
        "from sklearn.preprocessing import MinMaxScaler\n",
        "\n",
        "# create pipeline\n",
        "reg_sgd_pipe = Pipeline([\n",
        "\n",
        "    # feature Scaling\n",
        "    ('scaler', MinMaxScaler()),\n",
        "    # regression\n",
        "    ('sgd_reg', SGDRegressor(max_iter=15000, tol = 0.001))\n",
        "])\n",
        "\n",
        "param_sgd = {'sgd_reg__eta0':[0.01, 0.05, 0.1 ,0.28,0.5,0.00001]}\n",
        "grid_sgd = GridSearchCV(reg_sgd_pipe, param_sgd,cv=10, n_jobs=-1, return_train_score = True,\n",
        "                        scoring=None)\n",
        "\n",
        "grid_sgd.fit(X_train, y_train)\n",
        "\n",
        "print(\"Best parameters: {}\".format(grid_sgd.best_params_))\n",
        "print(\"Best cross-validation score: {:.4f}\".format(grid_sgd.best_score_))\n",
        "\n",
        "print(\"SGD Train Performance: \", grid_search_house_pipe.score(X_train,y_train))\n",
        "print(\"SGD Test Performance: \", grid_search_house_pipe.score(X_test,y_test))"
      ],
      "execution_count": 0,
      "outputs": [
        {
          "output_type": "error",
          "ename": "NameError",
          "evalue": "ignored",
          "traceback": [
            "\u001b[0;31m---------------------------------------------------------------------------\u001b[0m",
            "\u001b[0;31mNameError\u001b[0m                                 Traceback (most recent call last)",
            "\u001b[0;32m<ipython-input-13-c200eca3b7cf>\u001b[0m in \u001b[0;36m<module>\u001b[0;34m()\u001b[0m\n\u001b[1;32m      5\u001b[0m \u001b[0;34m\u001b[0m\u001b[0m\n\u001b[1;32m      6\u001b[0m \u001b[0;31m# create pipeline\u001b[0m\u001b[0;34m\u001b[0m\u001b[0;34m\u001b[0m\u001b[0;34m\u001b[0m\u001b[0m\n\u001b[0;32m----> 7\u001b[0;31m reg_sgd_pipe = Pipeline([\n\u001b[0m\u001b[1;32m      8\u001b[0m \u001b[0;34m\u001b[0m\u001b[0m\n\u001b[1;32m      9\u001b[0m     \u001b[0;31m# feature Scaling\u001b[0m\u001b[0;34m\u001b[0m\u001b[0;34m\u001b[0m\u001b[0;34m\u001b[0m\u001b[0m\n",
            "\u001b[0;31mNameError\u001b[0m: name 'Pipeline' is not defined"
          ]
        }
      ]
    },
    {
      "cell_type": "markdown",
      "metadata": {
        "id": "hiGyUrkTCBYJ",
        "colab_type": "text"
      },
      "source": [
        "## SGD with Regularization"
      ]
    },
    {
      "cell_type": "code",
      "metadata": {
        "id": "nOM3XFybB-nk",
        "colab_type": "code",
        "colab": {}
      },
      "source": [
        "#SGD With Regularization\n",
        "from sklearn.preprocessing import MinMaxScaler\n",
        "from sklearn.linear_model import SGDRegressor\n",
        "from sklearn.model_selection import GridSearchCV\n",
        "\n",
        "\n",
        "reg_sgd_pipe = Pipeline([\n",
        "\n",
        "    # feature Scaling\n",
        "    ('scaler', MinMaxScaler()),\n",
        "    # regression\n",
        "    ('sgd_reg', SGDRegressor(max_iter=10000, tol = 1e-6))\n",
        "])\n",
        "\n",
        "\n",
        "\n",
        "param_sgd = {'sgd_reg__eta0':[0.01, 0.05, 0.1 ,0.5], 'sgd_reg__penalty' :['l1','l2'],'sgd_reg__alpha' :[0.1,0.01,0.001] }\n",
        "grid_sgd = GridSearchCV(reg_sgd_pipe, param_sgd,cv=5, n_jobs=-1, return_train_score = True)\n",
        "\n",
        "grid_sgd.fit(X_train, y_train)\n",
        "\n",
        "print(\"Best parameters: {}\".format(grid_sgd.best_params_))\n",
        "print(\"Best cross-validation score: {:.4f}\".format(grid_sgd.best_score_))\n",
        "\n",
        "print('train score: ', grid_sgd.score(X_train, y_train))\n",
        "print('test score: ', grid_sgd.score(X_test, y_test))"
      ],
      "execution_count": 0,
      "outputs": []
    },
    {
      "cell_type": "markdown",
      "metadata": {
        "id": "fXo4EjxrAXJ8",
        "colab_type": "text"
      },
      "source": [
        "## KNN Regression"
      ]
    },
    {
      "cell_type": "code",
      "metadata": {
        "id": "lUELE6RDV7Ih",
        "colab_type": "code",
        "colab": {}
      },
      "source": [
        "#KNN\n",
        "\n",
        "from sklearn.model_selection import GridSearchCV\n",
        "from sklearn.neighbors import KNeighborsRegressor\n",
        "\n",
        "knn = KNeighborsRegressor()\n",
        "\n",
        "# define a list of parameters\n",
        "\n",
        "param_knn = {'n_neighbors': range(1,20)}\n",
        "\n",
        "#apply grid search\n",
        "grid_knn = GridSearchCV(knn, param_knn, cv=10, return_train_score=True)\n",
        "grid_knn.fit(X_train, y_train)\n",
        "\n",
        "# Mean Cross Validation Score\n",
        "print(\"Best Mean Cross-validation score: {:.4f}\".format(grid_knn.best_score_))\n",
        "print()\n",
        "\n",
        "#find best parameters\n",
        "print('KNN parameters: ', grid_knn.best_params_)\n",
        "\n",
        "# Check train data set performance\n",
        "print(\"KNN Train Performance: \", grid_knn.score(X_train,y_train))\n",
        "\n",
        "# Check test data set performance\n",
        "print(\"KNN Test Performance: \", grid_knn.score(X_test,y_test))"
      ],
      "execution_count": 0,
      "outputs": []
    },
    {
      "cell_type": "code",
      "metadata": {
        "id": "Xia9B_TQgZ1j",
        "colab_type": "code",
        "outputId": "e485551e-6831-4dd8-97ba-380fc0213e73",
        "colab": {
          "base_uri": "https://localhost:8080/",
          "height": 52
        }
      },
      "source": [
        "# random forrest\n",
        "from sklearn.ensemble import RandomForestRegressor\n",
        "from sklearn.metrics import accuracy_score\n",
        "\n",
        "forest = RandomForestRegressor(n_estimators=40, random_state=0, max_features=9, max_depth=11)\n",
        "forest.fit(X_train, y_train)\n",
        "\n",
        "print(\"Accuracy on training set: {:.3f}\".format(forest.score(X_train, y_train )))\n",
        "print(\"Accuracy on test set: {:.3f}\".format(forest.score(X_test, y_test)))\n"
      ],
      "execution_count": 0,
      "outputs": [
        {
          "output_type": "stream",
          "text": [
            "Accuracy on training set: 0.053\n",
            "Accuracy on test set: 0.038\n"
          ],
          "name": "stdout"
        }
      ]
    },
    {
      "cell_type": "markdown",
      "metadata": {
        "id": "0PfQpFhFCOwg",
        "colab_type": "text"
      },
      "source": [
        "##SVM with multiple Kernals (RBF, Poly, Linear, Sigmoid)"
      ]
    },
    {
      "cell_type": "code",
      "metadata": {
        "id": "DWpMRsyIhxbw",
        "colab_type": "code",
        "outputId": "dc47cdb5-0bf5-4d98-b13b-7f4103b3575e",
        "colab": {
          "base_uri": "https://localhost:8080/",
          "height": 106
        }
      },
      "source": [
        "# SVM with multiple Kernals (RBF, Poly, Linear, Sigmoid)\n",
        "\n",
        "param_grid = [{'kernel': ['rbf'],\n",
        "               'C': [0.001, 0.01, 0.1, 1, 10, 100],\n",
        "               'gamma': [0.001, 0.01, 0.1, 1, 10, 100]},\n",
        "              {'kernel': ['linear'],\n",
        "               'C': [0.001, 0.01, 0.1, 1, 10, 100]},\n",
        "              {'kernel': ['poly'],\n",
        "               'C': [0.001, 0.01, 0.1, 1, 10, 100],\n",
        "               'degree': [1,2]},\n",
        "              {'kernel': ['sigmoid'],\n",
        "               'gamma': [0.001, 0.01, 0.1, 1, 10, 100]}]\n",
        "              \n",
        "\n",
        "            \n",
        "              \n",
        "print(\"List of grids:\\n{}\".format(param_grid))\n",
        "\n",
        "from sklearn.svm import SVC\n",
        "\n",
        "grid_search = GridSearchCV(SVC(), param_grid, cv=5,\n",
        "                          return_train_score=True)\n",
        "grid_search.fit(X_train, y_train)\n",
        "print('train score: ', grid_search.score(X_train, y_train))\n",
        "print('test score: ', grid_search.score(X_test, y_test))\n",
        "print(\"Best parameters: {}\".format(grid_search.best_params_))\n",
        "print(\"Best cross-validation score: {:.4f}\".format(grid_search.best_score_))"
      ],
      "execution_count": 0,
      "outputs": [
        {
          "output_type": "stream",
          "text": [
            "Best parameters:  {'norm_reg': Lasso(alpha=1, copy_X=True, fit_intercept=True, max_iter=1000, normalize=False,\n",
            "      positive=False, precompute=False, random_state=None, selection='cyclic',\n",
            "      tol=0.0001, warm_start=False), 'norm_reg__alpha': 1}\n",
            "train score:  0.07345467042935638\n",
            "test score:  0.0697117954903762\n"
          ],
          "name": "stdout"
        }
      ]
    },
    {
      "cell_type": "markdown",
      "metadata": {
        "id": "Vpn2lNb3AtH1",
        "colab_type": "text"
      },
      "source": [
        "## Decision Trees"
      ]
    },
    {
      "cell_type": "code",
      "metadata": {
        "id": "IvlkFPhDmfJ1",
        "colab_type": "code",
        "outputId": "1e4a793e-0290-4d72-cf40-85bbeabbcb92",
        "colab": {
          "base_uri": "https://localhost:8080/",
          "height": 106
        }
      },
      "source": [
        "# regression trees\n",
        "\n",
        "%matplotlib notebook\n",
        "from sklearn.tree import DecisionTreeRegressor\n",
        "from sklearn.model_selection import GridSearchCV\n",
        "dtree = DecisionTreeRegressor(random_state=0)\n",
        "\n",
        "#define a list of parameters\n",
        "param_dtree = {'max_depth': range(1,20)}\n",
        "\n",
        "#apply grid search\n",
        "grid_dtree = GridSearchCV(dtree, param_dtree, cv=10, return_train_score = True)\n",
        "grid_dtree.fit(X_train, y_train)\n",
        "\n",
        "# Mean Cross Validation Score\n",
        "print(\"Best Mean Cross-validation score: {:.4f}\".format(grid_dtree.best_score_))\n",
        "print()\n",
        "\n",
        "#find best parameters\n",
        "print('Decision Tree parameters: ', grid_dtree.best_params_)\n",
        "\n",
        "# Check test data set performance\n",
        "print(\"Decision  Train Tree Performance: \", grid_dtree.score(X_train,y_train))\n",
        "\n",
        "# Check test data set performance\n",
        "print(\"Decision Test Tree Performance: \", grid_dtree.score(X_test,y_test))\n"
      ],
      "execution_count": 0,
      "outputs": [
        {
          "output_type": "stream",
          "text": [
            "Best Mean Cross-validation score: 0.0644\n",
            "\n",
            "Decision Tree parameters:  {'max_depth': 5}\n",
            "Decision  Train Tree Performance:  0.10368955018296443\n",
            "Decision Test Tree Performance:  0.07196622713584133\n"
          ],
          "name": "stdout"
        }
      ]
    }
  ]
}